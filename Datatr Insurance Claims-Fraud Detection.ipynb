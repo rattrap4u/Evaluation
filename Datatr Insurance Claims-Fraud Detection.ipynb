{
 "cells": [
  {
   "cell_type": "markdown",
   "id": "ecfa46e6",
   "metadata": {},
   "source": [
    "# Insurance Claims- Fraud Detection"
   ]
  },
  {
   "cell_type": "markdown",
   "id": "7dc935dc",
   "metadata": {},
   "source": [
    "## Problem Statement:\n",
    "Business case:\n",
    "Insurance fraud is a huge problem in the industry. It's difficult to identify fraud claims. Machine Learning is in a unique position to help the Auto Insurance industry with this problem.\n",
    "\n",
    "In this project, you are provided a dataset which has the details of the insurance policy along with the customer details. It also has the details of the accident on the basis of which the claims have been made. \n",
    "\n",
    "In this example, you will be working with some auto insurance data to demonstrate how you can create a predictive model that predicts if an insurance claim is fraudulent or not. "
   ]
  },
  {
   "cell_type": "code",
   "execution_count": 1,
   "id": "66dedd39",
   "metadata": {},
   "outputs": [],
   "source": [
    "import pandas as pd \n",
    "import seaborn as sns\n",
    "import numpy as np\n",
    "import matplotlib.pyplot as plt\n",
    "\n",
    "\n",
    "from sklearn.preprocessing import StandardScaler\n",
    "\n",
    "from sklearn.model_selection import train_test_split, GridSearchCV\n",
    "\n",
    "#import required accuracy metrics\n",
    "from sklearn.metrics import accuracy_score, confusion_matrix, classification_report\n",
    "from sklearn.metrics import roc_curve, roc_auc_score\n",
    "from sklearn.model_selection import KFold, cross_val_score\n",
    "\n",
    "\n",
    "import warnings\n",
    "warnings.filterwarnings('ignore')"
   ]
  },
  {
   "cell_type": "code",
   "execution_count": 2,
   "id": "b0423e85",
   "metadata": {
    "scrolled": true
   },
   "outputs": [
    {
     "data": {
      "text/html": [
       "<div>\n",
       "<style scoped>\n",
       "    .dataframe tbody tr th:only-of-type {\n",
       "        vertical-align: middle;\n",
       "    }\n",
       "\n",
       "    .dataframe tbody tr th {\n",
       "        vertical-align: top;\n",
       "    }\n",
       "\n",
       "    .dataframe thead th {\n",
       "        text-align: right;\n",
       "    }\n",
       "</style>\n",
       "<table border=\"1\" class=\"dataframe\">\n",
       "  <thead>\n",
       "    <tr style=\"text-align: right;\">\n",
       "      <th></th>\n",
       "      <th>months_as_customer</th>\n",
       "      <th>age</th>\n",
       "      <th>policy_number</th>\n",
       "      <th>policy_bind_date</th>\n",
       "      <th>policy_state</th>\n",
       "      <th>policy_csl</th>\n",
       "      <th>policy_deductable</th>\n",
       "      <th>policy_annual_premium</th>\n",
       "      <th>umbrella_limit</th>\n",
       "      <th>insured_zip</th>\n",
       "      <th>...</th>\n",
       "      <th>police_report_available</th>\n",
       "      <th>total_claim_amount</th>\n",
       "      <th>injury_claim</th>\n",
       "      <th>property_claim</th>\n",
       "      <th>vehicle_claim</th>\n",
       "      <th>auto_make</th>\n",
       "      <th>auto_model</th>\n",
       "      <th>auto_year</th>\n",
       "      <th>fraud_reported</th>\n",
       "      <th>_c39</th>\n",
       "    </tr>\n",
       "  </thead>\n",
       "  <tbody>\n",
       "    <tr>\n",
       "      <th>0</th>\n",
       "      <td>328</td>\n",
       "      <td>48</td>\n",
       "      <td>521585</td>\n",
       "      <td>17-10-2014</td>\n",
       "      <td>OH</td>\n",
       "      <td>250/500</td>\n",
       "      <td>1000</td>\n",
       "      <td>1406.91</td>\n",
       "      <td>0</td>\n",
       "      <td>466132</td>\n",
       "      <td>...</td>\n",
       "      <td>YES</td>\n",
       "      <td>71610</td>\n",
       "      <td>6510</td>\n",
       "      <td>13020</td>\n",
       "      <td>52080</td>\n",
       "      <td>Saab</td>\n",
       "      <td>92x</td>\n",
       "      <td>2004</td>\n",
       "      <td>Y</td>\n",
       "      <td>NaN</td>\n",
       "    </tr>\n",
       "    <tr>\n",
       "      <th>1</th>\n",
       "      <td>228</td>\n",
       "      <td>42</td>\n",
       "      <td>342868</td>\n",
       "      <td>27-06-2006</td>\n",
       "      <td>IN</td>\n",
       "      <td>250/500</td>\n",
       "      <td>2000</td>\n",
       "      <td>1197.22</td>\n",
       "      <td>5000000</td>\n",
       "      <td>468176</td>\n",
       "      <td>...</td>\n",
       "      <td>?</td>\n",
       "      <td>5070</td>\n",
       "      <td>780</td>\n",
       "      <td>780</td>\n",
       "      <td>3510</td>\n",
       "      <td>Mercedes</td>\n",
       "      <td>E400</td>\n",
       "      <td>2007</td>\n",
       "      <td>Y</td>\n",
       "      <td>NaN</td>\n",
       "    </tr>\n",
       "    <tr>\n",
       "      <th>2</th>\n",
       "      <td>134</td>\n",
       "      <td>29</td>\n",
       "      <td>687698</td>\n",
       "      <td>06-09-2000</td>\n",
       "      <td>OH</td>\n",
       "      <td>100/300</td>\n",
       "      <td>2000</td>\n",
       "      <td>1413.14</td>\n",
       "      <td>5000000</td>\n",
       "      <td>430632</td>\n",
       "      <td>...</td>\n",
       "      <td>NO</td>\n",
       "      <td>34650</td>\n",
       "      <td>7700</td>\n",
       "      <td>3850</td>\n",
       "      <td>23100</td>\n",
       "      <td>Dodge</td>\n",
       "      <td>RAM</td>\n",
       "      <td>2007</td>\n",
       "      <td>N</td>\n",
       "      <td>NaN</td>\n",
       "    </tr>\n",
       "    <tr>\n",
       "      <th>3</th>\n",
       "      <td>256</td>\n",
       "      <td>41</td>\n",
       "      <td>227811</td>\n",
       "      <td>25-05-1990</td>\n",
       "      <td>IL</td>\n",
       "      <td>250/500</td>\n",
       "      <td>2000</td>\n",
       "      <td>1415.74</td>\n",
       "      <td>6000000</td>\n",
       "      <td>608117</td>\n",
       "      <td>...</td>\n",
       "      <td>NO</td>\n",
       "      <td>63400</td>\n",
       "      <td>6340</td>\n",
       "      <td>6340</td>\n",
       "      <td>50720</td>\n",
       "      <td>Chevrolet</td>\n",
       "      <td>Tahoe</td>\n",
       "      <td>2014</td>\n",
       "      <td>Y</td>\n",
       "      <td>NaN</td>\n",
       "    </tr>\n",
       "    <tr>\n",
       "      <th>4</th>\n",
       "      <td>228</td>\n",
       "      <td>44</td>\n",
       "      <td>367455</td>\n",
       "      <td>06-06-2014</td>\n",
       "      <td>IL</td>\n",
       "      <td>500/1000</td>\n",
       "      <td>1000</td>\n",
       "      <td>1583.91</td>\n",
       "      <td>6000000</td>\n",
       "      <td>610706</td>\n",
       "      <td>...</td>\n",
       "      <td>NO</td>\n",
       "      <td>6500</td>\n",
       "      <td>1300</td>\n",
       "      <td>650</td>\n",
       "      <td>4550</td>\n",
       "      <td>Accura</td>\n",
       "      <td>RSX</td>\n",
       "      <td>2009</td>\n",
       "      <td>N</td>\n",
       "      <td>NaN</td>\n",
       "    </tr>\n",
       "    <tr>\n",
       "      <th>...</th>\n",
       "      <td>...</td>\n",
       "      <td>...</td>\n",
       "      <td>...</td>\n",
       "      <td>...</td>\n",
       "      <td>...</td>\n",
       "      <td>...</td>\n",
       "      <td>...</td>\n",
       "      <td>...</td>\n",
       "      <td>...</td>\n",
       "      <td>...</td>\n",
       "      <td>...</td>\n",
       "      <td>...</td>\n",
       "      <td>...</td>\n",
       "      <td>...</td>\n",
       "      <td>...</td>\n",
       "      <td>...</td>\n",
       "      <td>...</td>\n",
       "      <td>...</td>\n",
       "      <td>...</td>\n",
       "      <td>...</td>\n",
       "      <td>...</td>\n",
       "    </tr>\n",
       "    <tr>\n",
       "      <th>995</th>\n",
       "      <td>3</td>\n",
       "      <td>38</td>\n",
       "      <td>941851</td>\n",
       "      <td>16-07-1991</td>\n",
       "      <td>OH</td>\n",
       "      <td>500/1000</td>\n",
       "      <td>1000</td>\n",
       "      <td>1310.80</td>\n",
       "      <td>0</td>\n",
       "      <td>431289</td>\n",
       "      <td>...</td>\n",
       "      <td>?</td>\n",
       "      <td>87200</td>\n",
       "      <td>17440</td>\n",
       "      <td>8720</td>\n",
       "      <td>61040</td>\n",
       "      <td>Honda</td>\n",
       "      <td>Accord</td>\n",
       "      <td>2006</td>\n",
       "      <td>N</td>\n",
       "      <td>NaN</td>\n",
       "    </tr>\n",
       "    <tr>\n",
       "      <th>996</th>\n",
       "      <td>285</td>\n",
       "      <td>41</td>\n",
       "      <td>186934</td>\n",
       "      <td>05-01-2014</td>\n",
       "      <td>IL</td>\n",
       "      <td>100/300</td>\n",
       "      <td>1000</td>\n",
       "      <td>1436.79</td>\n",
       "      <td>0</td>\n",
       "      <td>608177</td>\n",
       "      <td>...</td>\n",
       "      <td>?</td>\n",
       "      <td>108480</td>\n",
       "      <td>18080</td>\n",
       "      <td>18080</td>\n",
       "      <td>72320</td>\n",
       "      <td>Volkswagen</td>\n",
       "      <td>Passat</td>\n",
       "      <td>2015</td>\n",
       "      <td>N</td>\n",
       "      <td>NaN</td>\n",
       "    </tr>\n",
       "    <tr>\n",
       "      <th>997</th>\n",
       "      <td>130</td>\n",
       "      <td>34</td>\n",
       "      <td>918516</td>\n",
       "      <td>17-02-2003</td>\n",
       "      <td>OH</td>\n",
       "      <td>250/500</td>\n",
       "      <td>500</td>\n",
       "      <td>1383.49</td>\n",
       "      <td>3000000</td>\n",
       "      <td>442797</td>\n",
       "      <td>...</td>\n",
       "      <td>YES</td>\n",
       "      <td>67500</td>\n",
       "      <td>7500</td>\n",
       "      <td>7500</td>\n",
       "      <td>52500</td>\n",
       "      <td>Suburu</td>\n",
       "      <td>Impreza</td>\n",
       "      <td>1996</td>\n",
       "      <td>N</td>\n",
       "      <td>NaN</td>\n",
       "    </tr>\n",
       "    <tr>\n",
       "      <th>998</th>\n",
       "      <td>458</td>\n",
       "      <td>62</td>\n",
       "      <td>533940</td>\n",
       "      <td>18-11-2011</td>\n",
       "      <td>IL</td>\n",
       "      <td>500/1000</td>\n",
       "      <td>2000</td>\n",
       "      <td>1356.92</td>\n",
       "      <td>5000000</td>\n",
       "      <td>441714</td>\n",
       "      <td>...</td>\n",
       "      <td>YES</td>\n",
       "      <td>46980</td>\n",
       "      <td>5220</td>\n",
       "      <td>5220</td>\n",
       "      <td>36540</td>\n",
       "      <td>Audi</td>\n",
       "      <td>A5</td>\n",
       "      <td>1998</td>\n",
       "      <td>N</td>\n",
       "      <td>NaN</td>\n",
       "    </tr>\n",
       "    <tr>\n",
       "      <th>999</th>\n",
       "      <td>456</td>\n",
       "      <td>60</td>\n",
       "      <td>556080</td>\n",
       "      <td>11-11-1996</td>\n",
       "      <td>OH</td>\n",
       "      <td>250/500</td>\n",
       "      <td>1000</td>\n",
       "      <td>766.19</td>\n",
       "      <td>0</td>\n",
       "      <td>612260</td>\n",
       "      <td>...</td>\n",
       "      <td>?</td>\n",
       "      <td>5060</td>\n",
       "      <td>460</td>\n",
       "      <td>920</td>\n",
       "      <td>3680</td>\n",
       "      <td>Mercedes</td>\n",
       "      <td>E400</td>\n",
       "      <td>2007</td>\n",
       "      <td>N</td>\n",
       "      <td>NaN</td>\n",
       "    </tr>\n",
       "  </tbody>\n",
       "</table>\n",
       "<p>1000 rows × 40 columns</p>\n",
       "</div>"
      ],
      "text/plain": [
       "     months_as_customer  age  policy_number policy_bind_date policy_state  \\\n",
       "0                   328   48         521585       17-10-2014           OH   \n",
       "1                   228   42         342868       27-06-2006           IN   \n",
       "2                   134   29         687698       06-09-2000           OH   \n",
       "3                   256   41         227811       25-05-1990           IL   \n",
       "4                   228   44         367455       06-06-2014           IL   \n",
       "..                  ...  ...            ...              ...          ...   \n",
       "995                   3   38         941851       16-07-1991           OH   \n",
       "996                 285   41         186934       05-01-2014           IL   \n",
       "997                 130   34         918516       17-02-2003           OH   \n",
       "998                 458   62         533940       18-11-2011           IL   \n",
       "999                 456   60         556080       11-11-1996           OH   \n",
       "\n",
       "    policy_csl  policy_deductable  policy_annual_premium  umbrella_limit  \\\n",
       "0      250/500               1000                1406.91               0   \n",
       "1      250/500               2000                1197.22         5000000   \n",
       "2      100/300               2000                1413.14         5000000   \n",
       "3      250/500               2000                1415.74         6000000   \n",
       "4     500/1000               1000                1583.91         6000000   \n",
       "..         ...                ...                    ...             ...   \n",
       "995   500/1000               1000                1310.80               0   \n",
       "996    100/300               1000                1436.79               0   \n",
       "997    250/500                500                1383.49         3000000   \n",
       "998   500/1000               2000                1356.92         5000000   \n",
       "999    250/500               1000                 766.19               0   \n",
       "\n",
       "     insured_zip  ... police_report_available total_claim_amount injury_claim  \\\n",
       "0         466132  ...                     YES              71610         6510   \n",
       "1         468176  ...                       ?               5070          780   \n",
       "2         430632  ...                      NO              34650         7700   \n",
       "3         608117  ...                      NO              63400         6340   \n",
       "4         610706  ...                      NO               6500         1300   \n",
       "..           ...  ...                     ...                ...          ...   \n",
       "995       431289  ...                       ?              87200        17440   \n",
       "996       608177  ...                       ?             108480        18080   \n",
       "997       442797  ...                     YES              67500         7500   \n",
       "998       441714  ...                     YES              46980         5220   \n",
       "999       612260  ...                       ?               5060          460   \n",
       "\n",
       "    property_claim vehicle_claim   auto_make  auto_model auto_year  \\\n",
       "0            13020         52080        Saab         92x      2004   \n",
       "1              780          3510    Mercedes        E400      2007   \n",
       "2             3850         23100       Dodge         RAM      2007   \n",
       "3             6340         50720   Chevrolet       Tahoe      2014   \n",
       "4              650          4550      Accura         RSX      2009   \n",
       "..             ...           ...         ...         ...       ...   \n",
       "995           8720         61040       Honda      Accord      2006   \n",
       "996          18080         72320  Volkswagen      Passat      2015   \n",
       "997           7500         52500      Suburu     Impreza      1996   \n",
       "998           5220         36540        Audi          A5      1998   \n",
       "999            920          3680    Mercedes        E400      2007   \n",
       "\n",
       "    fraud_reported _c39  \n",
       "0                Y  NaN  \n",
       "1                Y  NaN  \n",
       "2                N  NaN  \n",
       "3                Y  NaN  \n",
       "4                N  NaN  \n",
       "..             ...  ...  \n",
       "995              N  NaN  \n",
       "996              N  NaN  \n",
       "997              N  NaN  \n",
       "998              N  NaN  \n",
       "999              N  NaN  \n",
       "\n",
       "[1000 rows x 40 columns]"
      ]
     },
     "execution_count": 2,
     "metadata": {},
     "output_type": "execute_result"
    }
   ],
   "source": [
    "df=pd.read_csv(r'C:\\Users\\tusha\\Downloads\\Automobile_insurance_fraud.csv')\n",
    "df"
   ]
  },
  {
   "cell_type": "code",
   "execution_count": 3,
   "id": "b8de808e",
   "metadata": {
    "scrolled": true
   },
   "outputs": [
    {
     "name": "stdout",
     "output_type": "stream",
     "text": [
      "<class 'pandas.core.frame.DataFrame'>\n",
      "RangeIndex: 1000 entries, 0 to 999\n",
      "Data columns (total 40 columns):\n",
      " #   Column                       Non-Null Count  Dtype  \n",
      "---  ------                       --------------  -----  \n",
      " 0   months_as_customer           1000 non-null   int64  \n",
      " 1   age                          1000 non-null   int64  \n",
      " 2   policy_number                1000 non-null   int64  \n",
      " 3   policy_bind_date             1000 non-null   object \n",
      " 4   policy_state                 1000 non-null   object \n",
      " 5   policy_csl                   1000 non-null   object \n",
      " 6   policy_deductable            1000 non-null   int64  \n",
      " 7   policy_annual_premium        1000 non-null   float64\n",
      " 8   umbrella_limit               1000 non-null   int64  \n",
      " 9   insured_zip                  1000 non-null   int64  \n",
      " 10  insured_sex                  1000 non-null   object \n",
      " 11  insured_education_level      1000 non-null   object \n",
      " 12  insured_occupation           1000 non-null   object \n",
      " 13  insured_hobbies              1000 non-null   object \n",
      " 14  insured_relationship         1000 non-null   object \n",
      " 15  capital-gains                1000 non-null   int64  \n",
      " 16  capital-loss                 1000 non-null   int64  \n",
      " 17  incident_date                1000 non-null   object \n",
      " 18  incident_type                1000 non-null   object \n",
      " 19  collision_type               1000 non-null   object \n",
      " 20  incident_severity            1000 non-null   object \n",
      " 21  authorities_contacted        1000 non-null   object \n",
      " 22  incident_state               1000 non-null   object \n",
      " 23  incident_city                1000 non-null   object \n",
      " 24  incident_location            1000 non-null   object \n",
      " 25  incident_hour_of_the_day     1000 non-null   int64  \n",
      " 26  number_of_vehicles_involved  1000 non-null   int64  \n",
      " 27  property_damage              1000 non-null   object \n",
      " 28  bodily_injuries              1000 non-null   int64  \n",
      " 29  witnesses                    1000 non-null   int64  \n",
      " 30  police_report_available      1000 non-null   object \n",
      " 31  total_claim_amount           1000 non-null   int64  \n",
      " 32  injury_claim                 1000 non-null   int64  \n",
      " 33  property_claim               1000 non-null   int64  \n",
      " 34  vehicle_claim                1000 non-null   int64  \n",
      " 35  auto_make                    1000 non-null   object \n",
      " 36  auto_model                   1000 non-null   object \n",
      " 37  auto_year                    1000 non-null   int64  \n",
      " 38  fraud_reported               1000 non-null   object \n",
      " 39  _c39                         0 non-null      float64\n",
      "dtypes: float64(2), int64(17), object(21)\n",
      "memory usage: 312.6+ KB\n"
     ]
    }
   ],
   "source": [
    "df.info()"
   ]
  },
  {
   "cell_type": "code",
   "execution_count": 4,
   "id": "6e34614a",
   "metadata": {},
   "outputs": [
    {
     "data": {
      "text/plain": [
       "(1000, 40)"
      ]
     },
     "execution_count": 4,
     "metadata": {},
     "output_type": "execute_result"
    }
   ],
   "source": [
    "# checking the shape of the dataset\n",
    "df.shape"
   ]
  },
  {
   "cell_type": "code",
   "execution_count": 5,
   "id": "f04fad4c",
   "metadata": {},
   "outputs": [],
   "source": [
    "# there are 1000 rows and 40 columns"
   ]
  },
  {
   "cell_type": "code",
   "execution_count": 6,
   "id": "4738ac2a",
   "metadata": {},
   "outputs": [
    {
     "data": {
      "text/plain": [
       "Index(['months_as_customer', 'age', 'policy_number', 'policy_bind_date',\n",
       "       'policy_state', 'policy_csl', 'policy_deductable',\n",
       "       'policy_annual_premium', 'umbrella_limit', 'insured_zip', 'insured_sex',\n",
       "       'insured_education_level', 'insured_occupation', 'insured_hobbies',\n",
       "       'insured_relationship', 'capital-gains', 'capital-loss',\n",
       "       'incident_date', 'incident_type', 'collision_type', 'incident_severity',\n",
       "       'authorities_contacted', 'incident_state', 'incident_city',\n",
       "       'incident_location', 'incident_hour_of_the_day',\n",
       "       'number_of_vehicles_involved', 'property_damage', 'bodily_injuries',\n",
       "       'witnesses', 'police_report_available', 'total_claim_amount',\n",
       "       'injury_claim', 'property_claim', 'vehicle_claim', 'auto_make',\n",
       "       'auto_model', 'auto_year', 'fraud_reported', '_c39'],\n",
       "      dtype='object')"
      ]
     },
     "execution_count": 6,
     "metadata": {},
     "output_type": "execute_result"
    }
   ],
   "source": [
    "# checking the names of the columns\n",
    "df.columns"
   ]
  },
  {
   "cell_type": "code",
   "execution_count": 7,
   "id": "c2f383d0",
   "metadata": {},
   "outputs": [
    {
     "data": {
      "text/plain": [
       "months_as_customer               int64\n",
       "age                              int64\n",
       "policy_number                    int64\n",
       "policy_bind_date                object\n",
       "policy_state                    object\n",
       "policy_csl                      object\n",
       "policy_deductable                int64\n",
       "policy_annual_premium          float64\n",
       "umbrella_limit                   int64\n",
       "insured_zip                      int64\n",
       "insured_sex                     object\n",
       "insured_education_level         object\n",
       "insured_occupation              object\n",
       "insured_hobbies                 object\n",
       "insured_relationship            object\n",
       "capital-gains                    int64\n",
       "capital-loss                     int64\n",
       "incident_date                   object\n",
       "incident_type                   object\n",
       "collision_type                  object\n",
       "incident_severity               object\n",
       "authorities_contacted           object\n",
       "incident_state                  object\n",
       "incident_city                   object\n",
       "incident_location               object\n",
       "incident_hour_of_the_day         int64\n",
       "number_of_vehicles_involved      int64\n",
       "property_damage                 object\n",
       "bodily_injuries                  int64\n",
       "witnesses                        int64\n",
       "police_report_available         object\n",
       "total_claim_amount               int64\n",
       "injury_claim                     int64\n",
       "property_claim                   int64\n",
       "vehicle_claim                    int64\n",
       "auto_make                       object\n",
       "auto_model                      object\n",
       "auto_year                        int64\n",
       "fraud_reported                  object\n",
       "_c39                           float64\n",
       "dtype: object"
      ]
     },
     "execution_count": 7,
     "metadata": {},
     "output_type": "execute_result"
    }
   ],
   "source": [
    "# checking the datatypes of the columns\n",
    "df.dtypes"
   ]
  },
  {
   "cell_type": "code",
   "execution_count": 8,
   "id": "b6b7729c",
   "metadata": {},
   "outputs": [],
   "source": [
    "# int, object, float all three types of datatypes are present."
   ]
  },
  {
   "cell_type": "markdown",
   "id": "43cd2d99",
   "metadata": {},
   "source": [
    "### cheking the null values"
   ]
  },
  {
   "cell_type": "code",
   "execution_count": 9,
   "id": "7c2c78f9",
   "metadata": {
    "scrolled": true
   },
   "outputs": [
    {
     "data": {
      "text/plain": [
       "months_as_customer                0\n",
       "age                               0\n",
       "policy_number                     0\n",
       "policy_bind_date                  0\n",
       "policy_state                      0\n",
       "policy_csl                        0\n",
       "policy_deductable                 0\n",
       "policy_annual_premium             0\n",
       "umbrella_limit                    0\n",
       "insured_zip                       0\n",
       "insured_sex                       0\n",
       "insured_education_level           0\n",
       "insured_occupation                0\n",
       "insured_hobbies                   0\n",
       "insured_relationship              0\n",
       "capital-gains                     0\n",
       "capital-loss                      0\n",
       "incident_date                     0\n",
       "incident_type                     0\n",
       "collision_type                    0\n",
       "incident_severity                 0\n",
       "authorities_contacted             0\n",
       "incident_state                    0\n",
       "incident_city                     0\n",
       "incident_location                 0\n",
       "incident_hour_of_the_day          0\n",
       "number_of_vehicles_involved       0\n",
       "property_damage                   0\n",
       "bodily_injuries                   0\n",
       "witnesses                         0\n",
       "police_report_available           0\n",
       "total_claim_amount                0\n",
       "injury_claim                      0\n",
       "property_claim                    0\n",
       "vehicle_claim                     0\n",
       "auto_make                         0\n",
       "auto_model                        0\n",
       "auto_year                         0\n",
       "fraud_reported                    0\n",
       "_c39                           1000\n",
       "dtype: int64"
      ]
     },
     "execution_count": 9,
     "metadata": {},
     "output_type": "execute_result"
    }
   ],
   "source": [
    "df.isnull().sum()"
   ]
  },
  {
   "cell_type": "code",
   "execution_count": 10,
   "id": "64ee7621",
   "metadata": {
    "scrolled": true
   },
   "outputs": [
    {
     "data": {
      "text/plain": [
       "<AxesSubplot:title={'center':'Heatmap Null Values'}>"
      ]
     },
     "execution_count": 10,
     "metadata": {},
     "output_type": "execute_result"
    },
    {
     "data": {
      "image/png": "[encoded data removed]",
      "text/plain": [
       "<Figure size 864x576 with 2 Axes>"
      ]
     },
     "metadata": {
      "needs_background": "light"
     },
     "output_type": "display_data"
    }
   ],
   "source": [
    "# checking the missing values using the heatmap\n",
    "plt.figure(figsize=(12,8))\n",
    "plt.title('Heatmap Null Values', fontsize=15)\n",
    "sns.heatmap(df.isnull())"
   ]
  },
  {
   "cell_type": "code",
   "execution_count": 11,
   "id": "d0e47cac",
   "metadata": {},
   "outputs": [],
   "source": [
    "# it can be seen that only one column i.e. _c39 has missing values."
   ]
  },
  {
   "cell_type": "code",
   "execution_count": 12,
   "id": "30a57f35",
   "metadata": {},
   "outputs": [
    {
     "data": {
      "text/plain": [
       "0"
      ]
     },
     "execution_count": 12,
     "metadata": {},
     "output_type": "execute_result"
    }
   ],
   "source": [
    "df.duplicated().sum()"
   ]
  },
  {
   "cell_type": "code",
   "execution_count": 13,
   "id": "58086371",
   "metadata": {},
   "outputs": [],
   "source": [
    "# There are no duplicate values present in the dataset."
   ]
  },
  {
   "cell_type": "code",
   "execution_count": 14,
   "id": "6f87af78",
   "metadata": {
    "scrolled": true
   },
   "outputs": [
    {
     "data": {
      "text/plain": [
       "months_as_customer              391\n",
       "age                              46\n",
       "policy_number                  1000\n",
       "policy_bind_date                951\n",
       "policy_state                      3\n",
       "policy_csl                        3\n",
       "policy_deductable                 3\n",
       "policy_annual_premium           991\n",
       "umbrella_limit                   11\n",
       "insured_zip                     995\n",
       "insured_sex                       2\n",
       "insured_education_level           7\n",
       "insured_occupation               14\n",
       "insured_hobbies                  20\n",
       "insured_relationship              6\n",
       "capital-gains                   338\n",
       "capital-loss                    354\n",
       "incident_date                    60\n",
       "incident_type                     4\n",
       "collision_type                    4\n",
       "incident_severity                 4\n",
       "authorities_contacted             5\n",
       "incident_state                    7\n",
       "incident_city                     7\n",
       "incident_location              1000\n",
       "incident_hour_of_the_day         24\n",
       "number_of_vehicles_involved       4\n",
       "property_damage                   3\n",
       "bodily_injuries                   3\n",
       "witnesses                         4\n",
       "police_report_available           3\n",
       "total_claim_amount              763\n",
       "injury_claim                    638\n",
       "property_claim                  626\n",
       "vehicle_claim                   726\n",
       "auto_make                        14\n",
       "auto_model                       39\n",
       "auto_year                        21\n",
       "fraud_reported                    2\n",
       "_c39                              0\n",
       "dtype: int64"
      ]
     },
     "execution_count": 14,
     "metadata": {},
     "output_type": "execute_result"
    }
   ],
   "source": [
    "# checking the count for each type of value\n",
    "df.nunique()"
   ]
  },
  {
   "cell_type": "code",
   "execution_count": 15,
   "id": "581add1f",
   "metadata": {},
   "outputs": [],
   "source": [
    "#lets drop unwanted columns\n",
    "df.drop(columns = ['policy_number','policy_bind_date','_c39'], inplace = True)"
   ]
  },
  {
   "cell_type": "code",
   "execution_count": 16,
   "id": "fa02eef4",
   "metadata": {},
   "outputs": [],
   "source": [
    "#lets drop unwanted columns\n",
    "df.drop(columns = [\"policy_csl\",\"auto_year\",\"incident_date\",\"insured_zip\",], inplace = True)"
   ]
  },
  {
   "cell_type": "code",
   "execution_count": 17,
   "id": "3f2eed9b",
   "metadata": {},
   "outputs": [
    {
     "data": {
      "text/html": [
       "<div>\n",
       "<style scoped>\n",
       "    .dataframe tbody tr th:only-of-type {\n",
       "        vertical-align: middle;\n",
       "    }\n",
       "\n",
       "    .dataframe tbody tr th {\n",
       "        vertical-align: top;\n",
       "    }\n",
       "\n",
       "    .dataframe thead th {\n",
       "        text-align: right;\n",
       "    }\n",
       "</style>\n",
       "<table border=\"1\" class=\"dataframe\">\n",
       "  <thead>\n",
       "    <tr style=\"text-align: right;\">\n",
       "      <th></th>\n",
       "      <th>months_as_customer</th>\n",
       "      <th>age</th>\n",
       "      <th>policy_deductable</th>\n",
       "      <th>policy_annual_premium</th>\n",
       "      <th>umbrella_limit</th>\n",
       "      <th>capital-gains</th>\n",
       "      <th>capital-loss</th>\n",
       "      <th>incident_hour_of_the_day</th>\n",
       "      <th>number_of_vehicles_involved</th>\n",
       "      <th>bodily_injuries</th>\n",
       "      <th>witnesses</th>\n",
       "      <th>total_claim_amount</th>\n",
       "      <th>injury_claim</th>\n",
       "      <th>property_claim</th>\n",
       "      <th>vehicle_claim</th>\n",
       "    </tr>\n",
       "  </thead>\n",
       "  <tbody>\n",
       "    <tr>\n",
       "      <th>count</th>\n",
       "      <td>1000.000000</td>\n",
       "      <td>1000.000000</td>\n",
       "      <td>1000.000000</td>\n",
       "      <td>1000.000000</td>\n",
       "      <td>1.000000e+03</td>\n",
       "      <td>1000.000000</td>\n",
       "      <td>1000.000000</td>\n",
       "      <td>1000.000000</td>\n",
       "      <td>1000.00000</td>\n",
       "      <td>1000.000000</td>\n",
       "      <td>1000.000000</td>\n",
       "      <td>1000.00000</td>\n",
       "      <td>1000.000000</td>\n",
       "      <td>1000.000000</td>\n",
       "      <td>1000.000000</td>\n",
       "    </tr>\n",
       "    <tr>\n",
       "      <th>mean</th>\n",
       "      <td>203.954000</td>\n",
       "      <td>38.948000</td>\n",
       "      <td>1136.000000</td>\n",
       "      <td>1256.406150</td>\n",
       "      <td>1.101000e+06</td>\n",
       "      <td>25126.100000</td>\n",
       "      <td>-26793.700000</td>\n",
       "      <td>11.644000</td>\n",
       "      <td>1.83900</td>\n",
       "      <td>0.992000</td>\n",
       "      <td>1.487000</td>\n",
       "      <td>52761.94000</td>\n",
       "      <td>7433.420000</td>\n",
       "      <td>7399.570000</td>\n",
       "      <td>37928.950000</td>\n",
       "    </tr>\n",
       "    <tr>\n",
       "      <th>std</th>\n",
       "      <td>115.113174</td>\n",
       "      <td>9.140287</td>\n",
       "      <td>611.864673</td>\n",
       "      <td>244.167395</td>\n",
       "      <td>2.297407e+06</td>\n",
       "      <td>27872.187708</td>\n",
       "      <td>28104.096686</td>\n",
       "      <td>6.951373</td>\n",
       "      <td>1.01888</td>\n",
       "      <td>0.820127</td>\n",
       "      <td>1.111335</td>\n",
       "      <td>26401.53319</td>\n",
       "      <td>4880.951853</td>\n",
       "      <td>4824.726179</td>\n",
       "      <td>18886.252893</td>\n",
       "    </tr>\n",
       "    <tr>\n",
       "      <th>min</th>\n",
       "      <td>0.000000</td>\n",
       "      <td>19.000000</td>\n",
       "      <td>500.000000</td>\n",
       "      <td>433.330000</td>\n",
       "      <td>-1.000000e+06</td>\n",
       "      <td>0.000000</td>\n",
       "      <td>-111100.000000</td>\n",
       "      <td>0.000000</td>\n",
       "      <td>1.00000</td>\n",
       "      <td>0.000000</td>\n",
       "      <td>0.000000</td>\n",
       "      <td>100.00000</td>\n",
       "      <td>0.000000</td>\n",
       "      <td>0.000000</td>\n",
       "      <td>70.000000</td>\n",
       "    </tr>\n",
       "    <tr>\n",
       "      <th>25%</th>\n",
       "      <td>115.750000</td>\n",
       "      <td>32.000000</td>\n",
       "      <td>500.000000</td>\n",
       "      <td>1089.607500</td>\n",
       "      <td>0.000000e+00</td>\n",
       "      <td>0.000000</td>\n",
       "      <td>-51500.000000</td>\n",
       "      <td>6.000000</td>\n",
       "      <td>1.00000</td>\n",
       "      <td>0.000000</td>\n",
       "      <td>1.000000</td>\n",
       "      <td>41812.50000</td>\n",
       "      <td>4295.000000</td>\n",
       "      <td>4445.000000</td>\n",
       "      <td>30292.500000</td>\n",
       "    </tr>\n",
       "    <tr>\n",
       "      <th>50%</th>\n",
       "      <td>199.500000</td>\n",
       "      <td>38.000000</td>\n",
       "      <td>1000.000000</td>\n",
       "      <td>1257.200000</td>\n",
       "      <td>0.000000e+00</td>\n",
       "      <td>0.000000</td>\n",
       "      <td>-23250.000000</td>\n",
       "      <td>12.000000</td>\n",
       "      <td>1.00000</td>\n",
       "      <td>1.000000</td>\n",
       "      <td>1.000000</td>\n",
       "      <td>58055.00000</td>\n",
       "      <td>6775.000000</td>\n",
       "      <td>6750.000000</td>\n",
       "      <td>42100.000000</td>\n",
       "    </tr>\n",
       "    <tr>\n",
       "      <th>75%</th>\n",
       "      <td>276.250000</td>\n",
       "      <td>44.000000</td>\n",
       "      <td>2000.000000</td>\n",
       "      <td>1415.695000</td>\n",
       "      <td>0.000000e+00</td>\n",
       "      <td>51025.000000</td>\n",
       "      <td>0.000000</td>\n",
       "      <td>17.000000</td>\n",
       "      <td>3.00000</td>\n",
       "      <td>2.000000</td>\n",
       "      <td>2.000000</td>\n",
       "      <td>70592.50000</td>\n",
       "      <td>11305.000000</td>\n",
       "      <td>10885.000000</td>\n",
       "      <td>50822.500000</td>\n",
       "    </tr>\n",
       "    <tr>\n",
       "      <th>max</th>\n",
       "      <td>479.000000</td>\n",
       "      <td>64.000000</td>\n",
       "      <td>2000.000000</td>\n",
       "      <td>2047.590000</td>\n",
       "      <td>1.000000e+07</td>\n",
       "      <td>100500.000000</td>\n",
       "      <td>0.000000</td>\n",
       "      <td>23.000000</td>\n",
       "      <td>4.00000</td>\n",
       "      <td>2.000000</td>\n",
       "      <td>3.000000</td>\n",
       "      <td>114920.00000</td>\n",
       "      <td>21450.000000</td>\n",
       "      <td>23670.000000</td>\n",
       "      <td>79560.000000</td>\n",
       "    </tr>\n",
       "  </tbody>\n",
       "</table>\n",
       "</div>"
      ],
      "text/plain": [
       "       months_as_customer          age  policy_deductable  \\\n",
       "count         1000.000000  1000.000000        1000.000000   \n",
       "mean           203.954000    38.948000        1136.000000   \n",
       "std            115.113174     9.140287         611.864673   \n",
       "min              0.000000    19.000000         500.000000   \n",
       "25%            115.750000    32.000000         500.000000   \n",
       "50%            199.500000    38.000000        1000.000000   \n",
       "75%            276.250000    44.000000        2000.000000   \n",
       "max            479.000000    64.000000        2000.000000   \n",
       "\n",
       "       policy_annual_premium  umbrella_limit  capital-gains   capital-loss  \\\n",
       "count            1000.000000    1.000000e+03    1000.000000    1000.000000   \n",
       "mean             1256.406150    1.101000e+06   25126.100000  -26793.700000   \n",
       "std               244.167395    2.297407e+06   27872.187708   28104.096686   \n",
       "min               433.330000   -1.000000e+06       0.000000 -111100.000000   \n",
       "25%              1089.607500    0.000000e+00       0.000000  -51500.000000   \n",
       "50%              1257.200000    0.000000e+00       0.000000  -23250.000000   \n",
       "75%              1415.695000    0.000000e+00   51025.000000       0.000000   \n",
       "max              2047.590000    1.000000e+07  100500.000000       0.000000   \n",
       "\n",
       "       incident_hour_of_the_day  number_of_vehicles_involved  bodily_injuries  \\\n",
       "count               1000.000000                   1000.00000      1000.000000   \n",
       "mean                  11.644000                      1.83900         0.992000   \n",
       "std                    6.951373                      1.01888         0.820127   \n",
       "min                    0.000000                      1.00000         0.000000   \n",
       "25%                    6.000000                      1.00000         0.000000   \n",
       "50%                   12.000000                      1.00000         1.000000   \n",
       "75%                   17.000000                      3.00000         2.000000   \n",
       "max                   23.000000                      4.00000         2.000000   \n",
       "\n",
       "         witnesses  total_claim_amount  injury_claim  property_claim  \\\n",
       "count  1000.000000          1000.00000   1000.000000     1000.000000   \n",
       "mean      1.487000         52761.94000   7433.420000     7399.570000   \n",
       "std       1.111335         26401.53319   4880.951853     4824.726179   \n",
       "min       0.000000           100.00000      0.000000        0.000000   \n",
       "25%       1.000000         41812.50000   4295.000000     4445.000000   \n",
       "50%       1.000000         58055.00000   6775.000000     6750.000000   \n",
       "75%       2.000000         70592.50000  11305.000000    10885.000000   \n",
       "max       3.000000        114920.00000  21450.000000    23670.000000   \n",
       "\n",
       "       vehicle_claim  \n",
       "count    1000.000000  \n",
       "mean    37928.950000  \n",
       "std     18886.252893  \n",
       "min        70.000000  \n",
       "25%     30292.500000  \n",
       "50%     42100.000000  \n",
       "75%     50822.500000  \n",
       "max     79560.000000  "
      ]
     },
     "execution_count": 17,
     "metadata": {},
     "output_type": "execute_result"
    }
   ],
   "source": [
    "df.describe()\n",
    "# This will not include the categorical variables."
   ]
  },
  {
   "cell_type": "code",
   "execution_count": 18,
   "id": "e9735784",
   "metadata": {},
   "outputs": [
    {
     "data": {
      "text/html": [
       "<div>\n",
       "<style scoped>\n",
       "    .dataframe tbody tr th:only-of-type {\n",
       "        vertical-align: middle;\n",
       "    }\n",
       "\n",
       "    .dataframe tbody tr th {\n",
       "        vertical-align: top;\n",
       "    }\n",
       "\n",
       "    .dataframe thead th {\n",
       "        text-align: right;\n",
       "    }\n",
       "</style>\n",
       "<table border=\"1\" class=\"dataframe\">\n",
       "  <thead>\n",
       "    <tr style=\"text-align: right;\">\n",
       "      <th></th>\n",
       "      <th>months_as_customer</th>\n",
       "      <th>age</th>\n",
       "      <th>policy_state</th>\n",
       "      <th>policy_deductable</th>\n",
       "      <th>policy_annual_premium</th>\n",
       "      <th>umbrella_limit</th>\n",
       "      <th>insured_sex</th>\n",
       "      <th>insured_education_level</th>\n",
       "      <th>insured_occupation</th>\n",
       "      <th>insured_hobbies</th>\n",
       "      <th>...</th>\n",
       "      <th>bodily_injuries</th>\n",
       "      <th>witnesses</th>\n",
       "      <th>police_report_available</th>\n",
       "      <th>total_claim_amount</th>\n",
       "      <th>injury_claim</th>\n",
       "      <th>property_claim</th>\n",
       "      <th>vehicle_claim</th>\n",
       "      <th>auto_make</th>\n",
       "      <th>auto_model</th>\n",
       "      <th>fraud_reported</th>\n",
       "    </tr>\n",
       "  </thead>\n",
       "  <tbody>\n",
       "    <tr>\n",
       "      <th>count</th>\n",
       "      <td>1000.000000</td>\n",
       "      <td>1000.000000</td>\n",
       "      <td>1000</td>\n",
       "      <td>1000.000000</td>\n",
       "      <td>1000.000000</td>\n",
       "      <td>1.000000e+03</td>\n",
       "      <td>1000</td>\n",
       "      <td>1000</td>\n",
       "      <td>1000</td>\n",
       "      <td>1000</td>\n",
       "      <td>...</td>\n",
       "      <td>1000.000000</td>\n",
       "      <td>1000.000000</td>\n",
       "      <td>1000</td>\n",
       "      <td>1000.00000</td>\n",
       "      <td>1000.000000</td>\n",
       "      <td>1000.000000</td>\n",
       "      <td>1000.000000</td>\n",
       "      <td>1000</td>\n",
       "      <td>1000</td>\n",
       "      <td>1000</td>\n",
       "    </tr>\n",
       "    <tr>\n",
       "      <th>unique</th>\n",
       "      <td>NaN</td>\n",
       "      <td>NaN</td>\n",
       "      <td>3</td>\n",
       "      <td>NaN</td>\n",
       "      <td>NaN</td>\n",
       "      <td>NaN</td>\n",
       "      <td>2</td>\n",
       "      <td>7</td>\n",
       "      <td>14</td>\n",
       "      <td>20</td>\n",
       "      <td>...</td>\n",
       "      <td>NaN</td>\n",
       "      <td>NaN</td>\n",
       "      <td>3</td>\n",
       "      <td>NaN</td>\n",
       "      <td>NaN</td>\n",
       "      <td>NaN</td>\n",
       "      <td>NaN</td>\n",
       "      <td>14</td>\n",
       "      <td>39</td>\n",
       "      <td>2</td>\n",
       "    </tr>\n",
       "    <tr>\n",
       "      <th>top</th>\n",
       "      <td>NaN</td>\n",
       "      <td>NaN</td>\n",
       "      <td>OH</td>\n",
       "      <td>NaN</td>\n",
       "      <td>NaN</td>\n",
       "      <td>NaN</td>\n",
       "      <td>FEMALE</td>\n",
       "      <td>JD</td>\n",
       "      <td>machine-op-inspct</td>\n",
       "      <td>reading</td>\n",
       "      <td>...</td>\n",
       "      <td>NaN</td>\n",
       "      <td>NaN</td>\n",
       "      <td>NO</td>\n",
       "      <td>NaN</td>\n",
       "      <td>NaN</td>\n",
       "      <td>NaN</td>\n",
       "      <td>NaN</td>\n",
       "      <td>Saab</td>\n",
       "      <td>RAM</td>\n",
       "      <td>N</td>\n",
       "    </tr>\n",
       "    <tr>\n",
       "      <th>freq</th>\n",
       "      <td>NaN</td>\n",
       "      <td>NaN</td>\n",
       "      <td>352</td>\n",
       "      <td>NaN</td>\n",
       "      <td>NaN</td>\n",
       "      <td>NaN</td>\n",
       "      <td>537</td>\n",
       "      <td>161</td>\n",
       "      <td>93</td>\n",
       "      <td>64</td>\n",
       "      <td>...</td>\n",
       "      <td>NaN</td>\n",
       "      <td>NaN</td>\n",
       "      <td>343</td>\n",
       "      <td>NaN</td>\n",
       "      <td>NaN</td>\n",
       "      <td>NaN</td>\n",
       "      <td>NaN</td>\n",
       "      <td>80</td>\n",
       "      <td>43</td>\n",
       "      <td>753</td>\n",
       "    </tr>\n",
       "    <tr>\n",
       "      <th>mean</th>\n",
       "      <td>203.954000</td>\n",
       "      <td>38.948000</td>\n",
       "      <td>NaN</td>\n",
       "      <td>1136.000000</td>\n",
       "      <td>1256.406150</td>\n",
       "      <td>1.101000e+06</td>\n",
       "      <td>NaN</td>\n",
       "      <td>NaN</td>\n",
       "      <td>NaN</td>\n",
       "      <td>NaN</td>\n",
       "      <td>...</td>\n",
       "      <td>0.992000</td>\n",
       "      <td>1.487000</td>\n",
       "      <td>NaN</td>\n",
       "      <td>52761.94000</td>\n",
       "      <td>7433.420000</td>\n",
       "      <td>7399.570000</td>\n",
       "      <td>37928.950000</td>\n",
       "      <td>NaN</td>\n",
       "      <td>NaN</td>\n",
       "      <td>NaN</td>\n",
       "    </tr>\n",
       "    <tr>\n",
       "      <th>std</th>\n",
       "      <td>115.113174</td>\n",
       "      <td>9.140287</td>\n",
       "      <td>NaN</td>\n",
       "      <td>611.864673</td>\n",
       "      <td>244.167395</td>\n",
       "      <td>2.297407e+06</td>\n",
       "      <td>NaN</td>\n",
       "      <td>NaN</td>\n",
       "      <td>NaN</td>\n",
       "      <td>NaN</td>\n",
       "      <td>...</td>\n",
       "      <td>0.820127</td>\n",
       "      <td>1.111335</td>\n",
       "      <td>NaN</td>\n",
       "      <td>26401.53319</td>\n",
       "      <td>4880.951853</td>\n",
       "      <td>4824.726179</td>\n",
       "      <td>18886.252893</td>\n",
       "      <td>NaN</td>\n",
       "      <td>NaN</td>\n",
       "      <td>NaN</td>\n",
       "    </tr>\n",
       "    <tr>\n",
       "      <th>min</th>\n",
       "      <td>0.000000</td>\n",
       "      <td>19.000000</td>\n",
       "      <td>NaN</td>\n",
       "      <td>500.000000</td>\n",
       "      <td>433.330000</td>\n",
       "      <td>-1.000000e+06</td>\n",
       "      <td>NaN</td>\n",
       "      <td>NaN</td>\n",
       "      <td>NaN</td>\n",
       "      <td>NaN</td>\n",
       "      <td>...</td>\n",
       "      <td>0.000000</td>\n",
       "      <td>0.000000</td>\n",
       "      <td>NaN</td>\n",
       "      <td>100.00000</td>\n",
       "      <td>0.000000</td>\n",
       "      <td>0.000000</td>\n",
       "      <td>70.000000</td>\n",
       "      <td>NaN</td>\n",
       "      <td>NaN</td>\n",
       "      <td>NaN</td>\n",
       "    </tr>\n",
       "    <tr>\n",
       "      <th>25%</th>\n",
       "      <td>115.750000</td>\n",
       "      <td>32.000000</td>\n",
       "      <td>NaN</td>\n",
       "      <td>500.000000</td>\n",
       "      <td>1089.607500</td>\n",
       "      <td>0.000000e+00</td>\n",
       "      <td>NaN</td>\n",
       "      <td>NaN</td>\n",
       "      <td>NaN</td>\n",
       "      <td>NaN</td>\n",
       "      <td>...</td>\n",
       "      <td>0.000000</td>\n",
       "      <td>1.000000</td>\n",
       "      <td>NaN</td>\n",
       "      <td>41812.50000</td>\n",
       "      <td>4295.000000</td>\n",
       "      <td>4445.000000</td>\n",
       "      <td>30292.500000</td>\n",
       "      <td>NaN</td>\n",
       "      <td>NaN</td>\n",
       "      <td>NaN</td>\n",
       "    </tr>\n",
       "    <tr>\n",
       "      <th>50%</th>\n",
       "      <td>199.500000</td>\n",
       "      <td>38.000000</td>\n",
       "      <td>NaN</td>\n",
       "      <td>1000.000000</td>\n",
       "      <td>1257.200000</td>\n",
       "      <td>0.000000e+00</td>\n",
       "      <td>NaN</td>\n",
       "      <td>NaN</td>\n",
       "      <td>NaN</td>\n",
       "      <td>NaN</td>\n",
       "      <td>...</td>\n",
       "      <td>1.000000</td>\n",
       "      <td>1.000000</td>\n",
       "      <td>NaN</td>\n",
       "      <td>58055.00000</td>\n",
       "      <td>6775.000000</td>\n",
       "      <td>6750.000000</td>\n",
       "      <td>42100.000000</td>\n",
       "      <td>NaN</td>\n",
       "      <td>NaN</td>\n",
       "      <td>NaN</td>\n",
       "    </tr>\n",
       "    <tr>\n",
       "      <th>75%</th>\n",
       "      <td>276.250000</td>\n",
       "      <td>44.000000</td>\n",
       "      <td>NaN</td>\n",
       "      <td>2000.000000</td>\n",
       "      <td>1415.695000</td>\n",
       "      <td>0.000000e+00</td>\n",
       "      <td>NaN</td>\n",
       "      <td>NaN</td>\n",
       "      <td>NaN</td>\n",
       "      <td>NaN</td>\n",
       "      <td>...</td>\n",
       "      <td>2.000000</td>\n",
       "      <td>2.000000</td>\n",
       "      <td>NaN</td>\n",
       "      <td>70592.50000</td>\n",
       "      <td>11305.000000</td>\n",
       "      <td>10885.000000</td>\n",
       "      <td>50822.500000</td>\n",
       "      <td>NaN</td>\n",
       "      <td>NaN</td>\n",
       "      <td>NaN</td>\n",
       "    </tr>\n",
       "    <tr>\n",
       "      <th>max</th>\n",
       "      <td>479.000000</td>\n",
       "      <td>64.000000</td>\n",
       "      <td>NaN</td>\n",
       "      <td>2000.000000</td>\n",
       "      <td>2047.590000</td>\n",
       "      <td>1.000000e+07</td>\n",
       "      <td>NaN</td>\n",
       "      <td>NaN</td>\n",
       "      <td>NaN</td>\n",
       "      <td>NaN</td>\n",
       "      <td>...</td>\n",
       "      <td>2.000000</td>\n",
       "      <td>3.000000</td>\n",
       "      <td>NaN</td>\n",
       "      <td>114920.00000</td>\n",
       "      <td>21450.000000</td>\n",
       "      <td>23670.000000</td>\n",
       "      <td>79560.000000</td>\n",
       "      <td>NaN</td>\n",
       "      <td>NaN</td>\n",
       "      <td>NaN</td>\n",
       "    </tr>\n",
       "  </tbody>\n",
       "</table>\n",
       "<p>11 rows × 33 columns</p>\n",
       "</div>"
      ],
      "text/plain": [
       "        months_as_customer          age policy_state  policy_deductable  \\\n",
       "count          1000.000000  1000.000000         1000        1000.000000   \n",
       "unique                 NaN          NaN            3                NaN   \n",
       "top                    NaN          NaN           OH                NaN   \n",
       "freq                   NaN          NaN          352                NaN   \n",
       "mean            203.954000    38.948000          NaN        1136.000000   \n",
       "std             115.113174     9.140287          NaN         611.864673   \n",
       "min               0.000000    19.000000          NaN         500.000000   \n",
       "25%             115.750000    32.000000          NaN         500.000000   \n",
       "50%             199.500000    38.000000          NaN        1000.000000   \n",
       "75%             276.250000    44.000000          NaN        2000.000000   \n",
       "max             479.000000    64.000000          NaN        2000.000000   \n",
       "\n",
       "        policy_annual_premium  umbrella_limit insured_sex  \\\n",
       "count             1000.000000    1.000000e+03        1000   \n",
       "unique                    NaN             NaN           2   \n",
       "top                       NaN             NaN      FEMALE   \n",
       "freq                      NaN             NaN         537   \n",
       "mean              1256.406150    1.101000e+06         NaN   \n",
       "std                244.167395    2.297407e+06         NaN   \n",
       "min                433.330000   -1.000000e+06         NaN   \n",
       "25%               1089.607500    0.000000e+00         NaN   \n",
       "50%               1257.200000    0.000000e+00         NaN   \n",
       "75%               1415.695000    0.000000e+00         NaN   \n",
       "max               2047.590000    1.000000e+07         NaN   \n",
       "\n",
       "       insured_education_level insured_occupation insured_hobbies  ...  \\\n",
       "count                     1000               1000            1000  ...   \n",
       "unique                       7                 14              20  ...   \n",
       "top                         JD  machine-op-inspct         reading  ...   \n",
       "freq                       161                 93              64  ...   \n",
       "mean                       NaN                NaN             NaN  ...   \n",
       "std                        NaN                NaN             NaN  ...   \n",
       "min                        NaN                NaN             NaN  ...   \n",
       "25%                        NaN                NaN             NaN  ...   \n",
       "50%                        NaN                NaN             NaN  ...   \n",
       "75%                        NaN                NaN             NaN  ...   \n",
       "max                        NaN                NaN             NaN  ...   \n",
       "\n",
       "       bodily_injuries    witnesses  police_report_available  \\\n",
       "count      1000.000000  1000.000000                     1000   \n",
       "unique             NaN          NaN                        3   \n",
       "top                NaN          NaN                       NO   \n",
       "freq               NaN          NaN                      343   \n",
       "mean          0.992000     1.487000                      NaN   \n",
       "std           0.820127     1.111335                      NaN   \n",
       "min           0.000000     0.000000                      NaN   \n",
       "25%           0.000000     1.000000                      NaN   \n",
       "50%           1.000000     1.000000                      NaN   \n",
       "75%           2.000000     2.000000                      NaN   \n",
       "max           2.000000     3.000000                      NaN   \n",
       "\n",
       "       total_claim_amount  injury_claim property_claim vehicle_claim  \\\n",
       "count          1000.00000   1000.000000    1000.000000   1000.000000   \n",
       "unique                NaN           NaN            NaN           NaN   \n",
       "top                   NaN           NaN            NaN           NaN   \n",
       "freq                  NaN           NaN            NaN           NaN   \n",
       "mean          52761.94000   7433.420000    7399.570000  37928.950000   \n",
       "std           26401.53319   4880.951853    4824.726179  18886.252893   \n",
       "min             100.00000      0.000000       0.000000     70.000000   \n",
       "25%           41812.50000   4295.000000    4445.000000  30292.500000   \n",
       "50%           58055.00000   6775.000000    6750.000000  42100.000000   \n",
       "75%           70592.50000  11305.000000   10885.000000  50822.500000   \n",
       "max          114920.00000  21450.000000   23670.000000  79560.000000   \n",
       "\n",
       "       auto_make auto_model fraud_reported  \n",
       "count       1000       1000           1000  \n",
       "unique        14         39              2  \n",
       "top         Saab        RAM              N  \n",
       "freq          80         43            753  \n",
       "mean         NaN        NaN            NaN  \n",
       "std          NaN        NaN            NaN  \n",
       "min          NaN        NaN            NaN  \n",
       "25%          NaN        NaN            NaN  \n",
       "50%          NaN        NaN            NaN  \n",
       "75%          NaN        NaN            NaN  \n",
       "max          NaN        NaN            NaN  \n",
       "\n",
       "[11 rows x 33 columns]"
      ]
     },
     "execution_count": 18,
     "metadata": {},
     "output_type": "execute_result"
    }
   ],
   "source": [
    "df.describe(include='all')\n",
    "# by using all it can be assured that categorical feature are also included."
   ]
  },
  {
   "cell_type": "code",
   "execution_count": null,
   "id": "edd245d9",
   "metadata": {},
   "outputs": [],
   "source": []
  },
  {
   "cell_type": "markdown",
   "id": "ce50ead0",
   "metadata": {},
   "source": [
    "### Univariate Analysis"
   ]
  },
  {
   "cell_type": "code",
   "execution_count": 19,
   "id": "b8ba0742",
   "metadata": {
    "scrolled": true
   },
   "outputs": [
    {
     "data": {
      "text/plain": [
       "<seaborn.axisgrid.FacetGrid at 0x1d0cc9e98b0>"
      ]
     },
     "execution_count": 19,
     "metadata": {},
     "output_type": "execute_result"
    },
    {
     "data": {
      "image/png": "[encoded data removed]",
      "text/plain": [
       "<Figure size 360x360 with 1 Axes>"
      ]
     },
     "metadata": {
      "needs_background": "light"
     },
     "output_type": "display_data"
    }
   ],
   "source": [
    "sns.displot(df[\"age\"],bins=20,kde=True)"
   ]
  },
  {
   "cell_type": "code",
   "execution_count": 20,
   "id": "765ed65c",
   "metadata": {},
   "outputs": [],
   "source": [
    "# The plot can be seen that they are normal distributed"
   ]
  },
  {
   "cell_type": "code",
   "execution_count": 21,
   "id": "6645c55c",
   "metadata": {},
   "outputs": [
    {
     "data": {
      "text/plain": [
       "<AxesSubplot:xlabel='fraud_reported', ylabel='count'>"
      ]
     },
     "execution_count": 21,
     "metadata": {},
     "output_type": "execute_result"
    },
    {
     "data": {
      "image/png": "[encoded data removed]",
      "text/plain": [
       "<Figure size 720x720 with 1 Axes>"
      ]
     },
     "metadata": {
      "needs_background": "light"
     },
     "output_type": "display_data"
    }
   ],
   "source": [
    "f, ax = plt.subplots(figsize=(10, 10))\n",
    "sns.countplot(x='fraud_reported',data=df)"
   ]
  },
  {
   "cell_type": "code",
   "execution_count": 22,
   "id": "9c934a85",
   "metadata": {},
   "outputs": [],
   "source": [
    "# Fraud reported is very less as compared to not reported."
   ]
  },
  {
   "cell_type": "code",
   "execution_count": 23,
   "id": "8e87b3f6",
   "metadata": {},
   "outputs": [
    {
     "data": {
      "image/png": "[encoded data removed]",
      "text/plain": [
       "<Figure size 432x288 with 1 Axes>"
      ]
     },
     "metadata": {
      "needs_background": "light"
     },
     "output_type": "display_data"
    }
   ],
   "source": [
    "#lets check counts for collision_type\n",
    "sns.countplot(x = 'insured_sex', data = df)\n",
    "plt.show()"
   ]
  },
  {
   "cell_type": "code",
   "execution_count": 24,
   "id": "05477c39",
   "metadata": {},
   "outputs": [
    {
     "data": {
      "image/png": "[encoded data removed]",
      "text/plain": [
       "<Figure size 432x288 with 1 Axes>"
      ]
     },
     "metadata": {
      "needs_background": "light"
     },
     "output_type": "display_data"
    }
   ],
   "source": [
    "#lets check counts for collision_type\n",
    "sns.countplot(x = 'insured_education_level', data = df)\n",
    "plt.show()"
   ]
  },
  {
   "cell_type": "code",
   "execution_count": 25,
   "id": "6a701c8f",
   "metadata": {},
   "outputs": [
    {
     "data": {
      "image/png": "[encoded data removed]",
      "text/plain": [
       "<Figure size 432x288 with 1 Axes>"
      ]
     },
     "metadata": {
      "needs_background": "light"
     },
     "output_type": "display_data"
    }
   ],
   "source": [
    "#lets check counts for collision_type\n",
    "sns.countplot(x = 'insured_occupation', data = df)\n",
    "plt.show()"
   ]
  },
  {
   "cell_type": "code",
   "execution_count": 26,
   "id": "17d8d328",
   "metadata": {},
   "outputs": [
    {
     "data": {
      "image/png": "[encoded data removed]",
      "text/plain": [
       "<Figure size 432x288 with 1 Axes>"
      ]
     },
     "metadata": {
      "needs_background": "light"
     },
     "output_type": "display_data"
    }
   ],
   "source": [
    "#lets check counts for collision_type\n",
    "sns.countplot(x = 'insured_hobbies', data = df)\n",
    "plt.show()"
   ]
  },
  {
   "cell_type": "code",
   "execution_count": 27,
   "id": "77384568",
   "metadata": {},
   "outputs": [
    {
     "data": {
      "image/png": "[encoded data removed]",
      "text/plain": [
       "<Figure size 432x288 with 1 Axes>"
      ]
     },
     "metadata": {
      "needs_background": "light"
     },
     "output_type": "display_data"
    }
   ],
   "source": [
    "#lets check counts for collision_type\n",
    "sns.countplot(x = 'incident_type', data = df)\n",
    "plt.show()"
   ]
  },
  {
   "cell_type": "code",
   "execution_count": 28,
   "id": "9f1df9fb",
   "metadata": {},
   "outputs": [
    {
     "data": {
      "text/plain": [
       "<AxesSubplot:xlabel='policy_state', ylabel='count'>"
      ]
     },
     "execution_count": 28,
     "metadata": {},
     "output_type": "execute_result"
    },
    {
     "data": {
      "image/png": "[encoded data removed]",
      "text/plain": [
       "<Figure size 432x288 with 1 Axes>"
      ]
     },
     "metadata": {
      "needs_background": "light"
     },
     "output_type": "display_data"
    }
   ],
   "source": [
    "sns.countplot(df['policy_state'])"
   ]
  },
  {
   "cell_type": "code",
   "execution_count": 29,
   "id": "6f64b2cf",
   "metadata": {},
   "outputs": [
    {
     "data": {
      "image/png": "[encoded data removed]",
      "text/plain": [
       "<Figure size 432x288 with 1 Axes>"
      ]
     },
     "metadata": {
      "needs_background": "light"
     },
     "output_type": "display_data"
    }
   ],
   "source": [
    "#lets check counts for collision_type\n",
    "sns.countplot(x = 'collision_type', data = df)\n",
    "plt.show()"
   ]
  },
  {
   "cell_type": "code",
   "execution_count": 30,
   "id": "dcbefe39",
   "metadata": {},
   "outputs": [
    {
     "data": {
      "image/png": "[encoded data removed]",
      "text/plain": [
       "<Figure size 432x288 with 1 Axes>"
      ]
     },
     "metadata": {
      "needs_background": "light"
     },
     "output_type": "display_data"
    }
   ],
   "source": [
    "#lets check counts for collision_type\n",
    "sns.countplot(x = 'incident_type', data = df)\n",
    "plt.show()"
   ]
  },
  {
   "cell_type": "code",
   "execution_count": 31,
   "id": "2b1aacfb",
   "metadata": {},
   "outputs": [
    {
     "data": {
      "image/png": "[encoded data removed]",
      "text/plain": [
       "<Figure size 432x288 with 1 Axes>"
      ]
     },
     "metadata": {
      "needs_background": "light"
     },
     "output_type": "display_data"
    }
   ],
   "source": [
    "#lets check counts for collision_type\n",
    "sns.countplot(x = 'insured_hobbies', data = df)\n",
    "plt.show()"
   ]
  },
  {
   "cell_type": "code",
   "execution_count": 32,
   "id": "71122dd4",
   "metadata": {},
   "outputs": [
    {
     "data": {
      "image/png": "[encoded data removed]",
      "text/plain": [
       "<Figure size 432x288 with 1 Axes>"
      ]
     },
     "metadata": {
      "needs_background": "light"
     },
     "output_type": "display_data"
    }
   ],
   "source": [
    "#lets check counts for collision_type\n",
    "sns.countplot(x = 'insured_occupation', data = df)\n",
    "plt.show()"
   ]
  },
  {
   "cell_type": "code",
   "execution_count": 33,
   "id": "aa6236b3",
   "metadata": {},
   "outputs": [
    {
     "data": {
      "image/png": "[encoded data removed]",
      "text/plain": [
       "<Figure size 432x288 with 1 Axes>"
      ]
     },
     "metadata": {
      "needs_background": "light"
     },
     "output_type": "display_data"
    }
   ],
   "source": [
    "#lets check fraud_report based on policy_state \n",
    "sns.countplot(df['policy_deductable'])\n",
    "plt.show()"
   ]
  },
  {
   "cell_type": "code",
   "execution_count": 34,
   "id": "3ca81e1d",
   "metadata": {},
   "outputs": [
    {
     "data": {
      "image/png": "[encoded data removed]",
      "text/plain": [
       "<Figure size 432x288 with 1 Axes>"
      ]
     },
     "metadata": {
      "needs_background": "light"
     },
     "output_type": "display_data"
    }
   ],
   "source": [
    "#lets check counts for collision_type\n",
    "sns.countplot(x = 'incident_severity', data = df)\n",
    "plt.show()"
   ]
  },
  {
   "cell_type": "code",
   "execution_count": 35,
   "id": "5f5ebcc7",
   "metadata": {},
   "outputs": [
    {
     "data": {
      "image/png": "[encoded data removed]",
      "text/plain": [
       "<Figure size 432x288 with 1 Axes>"
      ]
     },
     "metadata": {
      "needs_background": "light"
     },
     "output_type": "display_data"
    }
   ],
   "source": [
    "#lets check counts for collision_type\n",
    "sns.countplot(x = 'police_report_available', data = df)\n",
    "plt.show()"
   ]
  },
  {
   "cell_type": "code",
   "execution_count": 36,
   "id": "a418ec06",
   "metadata": {},
   "outputs": [
    {
     "data": {
      "image/png": "[encoded data removed]",
      "text/plain": [
       "<Figure size 432x288 with 1 Axes>"
      ]
     },
     "metadata": {
      "needs_background": "light"
     },
     "output_type": "display_data"
    }
   ],
   "source": [
    "#lets check counts for collision_type\n",
    "sns.countplot(x = 'incident_state', data = df)\n",
    "plt.show()"
   ]
  },
  {
   "cell_type": "code",
   "execution_count": 37,
   "id": "99054295",
   "metadata": {},
   "outputs": [
    {
     "data": {
      "image/png": "[encoded data removed]",
      "text/plain": [
       "<Figure size 432x288 with 1 Axes>"
      ]
     },
     "metadata": {
      "needs_background": "light"
     },
     "output_type": "display_data"
    }
   ],
   "source": [
    "#lets check counts for collision_type\n",
    "sns.countplot(x = 'incident_city', data = df)\n",
    "plt.show()"
   ]
  },
  {
   "cell_type": "code",
   "execution_count": 38,
   "id": "7195f96f",
   "metadata": {},
   "outputs": [
    {
     "data": {
      "image/png": "[encoded data removed]",
      "text/plain": [
       "<Figure size 432x288 with 1 Axes>"
      ]
     },
     "metadata": {
      "needs_background": "light"
     },
     "output_type": "display_data"
    }
   ],
   "source": [
    "#lets check counts for collision_type\n",
    "sns.countplot(x = 'property_damage', data = df)\n",
    "plt.show()"
   ]
  },
  {
   "cell_type": "code",
   "execution_count": 39,
   "id": "661dbc01",
   "metadata": {},
   "outputs": [
    {
     "data": {
      "image/png": "[encoded data removed]",
      "text/plain": [
       "<Figure size 432x288 with 1 Axes>"
      ]
     },
     "metadata": {
      "needs_background": "light"
     },
     "output_type": "display_data"
    }
   ],
   "source": [
    "#lets check counts for collision_type\n",
    "sns.countplot(x = 'bodily_injuries', data = df)\n",
    "plt.show()"
   ]
  },
  {
   "cell_type": "code",
   "execution_count": 40,
   "id": "c58d35f4",
   "metadata": {},
   "outputs": [
    {
     "data": {
      "image/png": "[encoded data removed]",
      "text/plain": [
       "<Figure size 432x288 with 1 Axes>"
      ]
     },
     "metadata": {
      "needs_background": "light"
     },
     "output_type": "display_data"
    }
   ],
   "source": [
    "#lets check counts for collision_type\n",
    "sns.countplot(x = 'auto_make', data = df)\n",
    "plt.show()"
   ]
  },
  {
   "cell_type": "code",
   "execution_count": 41,
   "id": "e79ddbe3",
   "metadata": {},
   "outputs": [
    {
     "data": {
      "image/png": "[encoded data removed]",
      "text/plain": [
       "<Figure size 432x288 with 1 Axes>"
      ]
     },
     "metadata": {
      "needs_background": "light"
     },
     "output_type": "display_data"
    }
   ],
   "source": [
    "#lets check counts for collision_type\n",
    "sns.countplot(x = 'auto_model', data = df)\n",
    "plt.show()"
   ]
  },
  {
   "cell_type": "markdown",
   "id": "40365f61",
   "metadata": {},
   "source": [
    "## Bivariate Analysis"
   ]
  },
  {
   "cell_type": "code",
   "execution_count": 42,
   "id": "a345e03c",
   "metadata": {},
   "outputs": [
    {
     "data": {
      "image/png": "[encoded data removed]",
      "text/plain": [
       "<Figure size 432x288 with 1 Axes>"
      ]
     },
     "metadata": {
      "needs_background": "light"
     },
     "output_type": "display_data"
    }
   ],
   "source": [
    "#lets check counts for property_damage\n",
    "sns.countplot(x = 'property_damage',hue = 'fraud_reported', data = df)\n",
    "plt.legend( bbox_to_anchor = (1.05, 1), loc = 'upper left')\n",
    "plt.show()"
   ]
  },
  {
   "cell_type": "code",
   "execution_count": 43,
   "id": "03ea61e7",
   "metadata": {},
   "outputs": [
    {
     "data": {
      "image/png": "[encoded data removed]",
      "text/plain": [
       "<Figure size 432x288 with 1 Axes>"
      ]
     },
     "metadata": {
      "needs_background": "light"
     },
     "output_type": "display_data"
    }
   ],
   "source": [
    "#lets check counts for police_report_available \n",
    "sns.countplot(x = 'police_report_available',hue = 'fraud_reported', data = df)\n",
    "plt.legend( bbox_to_anchor = (1.05, 1), loc = 'upper left')\n",
    "plt.show()"
   ]
  },
  {
   "cell_type": "code",
   "execution_count": 44,
   "id": "cf8795d7",
   "metadata": {
    "scrolled": true
   },
   "outputs": [
    {
     "data": {
      "image/png": "[encoded data removed]",
      "text/plain": [
       "<Figure size 1080x576 with 1 Axes>"
      ]
     },
     "metadata": {
      "needs_background": "light"
     },
     "output_type": "display_data"
    }
   ],
   "source": [
    "#lets check the fraud_report based on age\n",
    "plt.figure(figsize = (15,8))\n",
    "sns.countplot(x = 'age', hue = 'fraud_reported', data = df)\n",
    "plt.show()"
   ]
  },
  {
   "cell_type": "code",
   "execution_count": 45,
   "id": "143c1fc8",
   "metadata": {
    "scrolled": true
   },
   "outputs": [
    {
     "data": {
      "image/png": "[encoded data removed]",
      "text/plain": [
       "<Figure size 432x288 with 1 Axes>"
      ]
     },
     "metadata": {
      "needs_background": "light"
     },
     "output_type": "display_data"
    }
   ],
   "source": [
    "#lets check fraud_report based on policy_state \n",
    "sns.countplot(x = 'policy_state', hue = 'fraud_reported', data = df)\n",
    "plt.legend( bbox_to_anchor = (1.05, 1), loc = 'upper left')\n",
    "plt.show()"
   ]
  },
  {
   "cell_type": "code",
   "execution_count": 46,
   "id": "14c0752b",
   "metadata": {},
   "outputs": [
    {
     "data": {
      "image/png": "[encoded data removed]",
      "text/plain": [
       "<Figure size 432x288 with 1 Axes>"
      ]
     },
     "metadata": {
      "needs_background": "light"
     },
     "output_type": "display_data"
    }
   ],
   "source": [
    "#lets have a look at destribution of policy_annual_premium\n",
    "sns.distplot(df['policy_annual_premium'])\n",
    "plt.show()"
   ]
  },
  {
   "cell_type": "code",
   "execution_count": 47,
   "id": "a638f158",
   "metadata": {},
   "outputs": [],
   "source": [
    "# Policy_annual_premium is normal distribution."
   ]
  },
  {
   "cell_type": "markdown",
   "id": "2e8eec14",
   "metadata": {},
   "source": [
    "### Data Processing"
   ]
  },
  {
   "cell_type": "code",
   "execution_count": 48,
   "id": "d1311cd8",
   "metadata": {},
   "outputs": [
    {
     "data": {
      "text/html": [
       "<div>\n",
       "<style scoped>\n",
       "    .dataframe tbody tr th:only-of-type {\n",
       "        vertical-align: middle;\n",
       "    }\n",
       "\n",
       "    .dataframe tbody tr th {\n",
       "        vertical-align: top;\n",
       "    }\n",
       "\n",
       "    .dataframe thead th {\n",
       "        text-align: right;\n",
       "    }\n",
       "</style>\n",
       "<table border=\"1\" class=\"dataframe\">\n",
       "  <thead>\n",
       "    <tr style=\"text-align: right;\">\n",
       "      <th></th>\n",
       "      <th>months_as_customer</th>\n",
       "      <th>age</th>\n",
       "      <th>policy_state</th>\n",
       "      <th>policy_deductable</th>\n",
       "      <th>policy_annual_premium</th>\n",
       "      <th>umbrella_limit</th>\n",
       "      <th>insured_sex</th>\n",
       "      <th>insured_education_level</th>\n",
       "      <th>insured_occupation</th>\n",
       "      <th>insured_hobbies</th>\n",
       "      <th>...</th>\n",
       "      <th>bodily_injuries</th>\n",
       "      <th>witnesses</th>\n",
       "      <th>police_report_available</th>\n",
       "      <th>total_claim_amount</th>\n",
       "      <th>injury_claim</th>\n",
       "      <th>property_claim</th>\n",
       "      <th>vehicle_claim</th>\n",
       "      <th>auto_make</th>\n",
       "      <th>auto_model</th>\n",
       "      <th>fraud_reported</th>\n",
       "    </tr>\n",
       "  </thead>\n",
       "  <tbody>\n",
       "    <tr>\n",
       "      <th>0</th>\n",
       "      <td>328</td>\n",
       "      <td>48</td>\n",
       "      <td>OH</td>\n",
       "      <td>1000</td>\n",
       "      <td>1406.91</td>\n",
       "      <td>0</td>\n",
       "      <td>MALE</td>\n",
       "      <td>MD</td>\n",
       "      <td>craft-repair</td>\n",
       "      <td>sleeping</td>\n",
       "      <td>...</td>\n",
       "      <td>1</td>\n",
       "      <td>2</td>\n",
       "      <td>1</td>\n",
       "      <td>71610</td>\n",
       "      <td>6510</td>\n",
       "      <td>13020</td>\n",
       "      <td>52080</td>\n",
       "      <td>Saab</td>\n",
       "      <td>92x</td>\n",
       "      <td>Y</td>\n",
       "    </tr>\n",
       "    <tr>\n",
       "      <th>1</th>\n",
       "      <td>228</td>\n",
       "      <td>42</td>\n",
       "      <td>IN</td>\n",
       "      <td>2000</td>\n",
       "      <td>1197.22</td>\n",
       "      <td>5000000</td>\n",
       "      <td>MALE</td>\n",
       "      <td>MD</td>\n",
       "      <td>machine-op-inspct</td>\n",
       "      <td>reading</td>\n",
       "      <td>...</td>\n",
       "      <td>0</td>\n",
       "      <td>0</td>\n",
       "      <td>0</td>\n",
       "      <td>5070</td>\n",
       "      <td>780</td>\n",
       "      <td>780</td>\n",
       "      <td>3510</td>\n",
       "      <td>Mercedes</td>\n",
       "      <td>E400</td>\n",
       "      <td>Y</td>\n",
       "    </tr>\n",
       "    <tr>\n",
       "      <th>2</th>\n",
       "      <td>134</td>\n",
       "      <td>29</td>\n",
       "      <td>OH</td>\n",
       "      <td>2000</td>\n",
       "      <td>1413.14</td>\n",
       "      <td>5000000</td>\n",
       "      <td>FEMALE</td>\n",
       "      <td>PhD</td>\n",
       "      <td>sales</td>\n",
       "      <td>board-games</td>\n",
       "      <td>...</td>\n",
       "      <td>2</td>\n",
       "      <td>3</td>\n",
       "      <td>0</td>\n",
       "      <td>34650</td>\n",
       "      <td>7700</td>\n",
       "      <td>3850</td>\n",
       "      <td>23100</td>\n",
       "      <td>Dodge</td>\n",
       "      <td>RAM</td>\n",
       "      <td>N</td>\n",
       "    </tr>\n",
       "    <tr>\n",
       "      <th>3</th>\n",
       "      <td>256</td>\n",
       "      <td>41</td>\n",
       "      <td>IL</td>\n",
       "      <td>2000</td>\n",
       "      <td>1415.74</td>\n",
       "      <td>6000000</td>\n",
       "      <td>FEMALE</td>\n",
       "      <td>PhD</td>\n",
       "      <td>armed-forces</td>\n",
       "      <td>board-games</td>\n",
       "      <td>...</td>\n",
       "      <td>1</td>\n",
       "      <td>2</td>\n",
       "      <td>0</td>\n",
       "      <td>63400</td>\n",
       "      <td>6340</td>\n",
       "      <td>6340</td>\n",
       "      <td>50720</td>\n",
       "      <td>Chevrolet</td>\n",
       "      <td>Tahoe</td>\n",
       "      <td>Y</td>\n",
       "    </tr>\n",
       "    <tr>\n",
       "      <th>4</th>\n",
       "      <td>228</td>\n",
       "      <td>44</td>\n",
       "      <td>IL</td>\n",
       "      <td>1000</td>\n",
       "      <td>1583.91</td>\n",
       "      <td>6000000</td>\n",
       "      <td>MALE</td>\n",
       "      <td>Associate</td>\n",
       "      <td>sales</td>\n",
       "      <td>board-games</td>\n",
       "      <td>...</td>\n",
       "      <td>0</td>\n",
       "      <td>1</td>\n",
       "      <td>0</td>\n",
       "      <td>6500</td>\n",
       "      <td>1300</td>\n",
       "      <td>650</td>\n",
       "      <td>4550</td>\n",
       "      <td>Accura</td>\n",
       "      <td>RSX</td>\n",
       "      <td>N</td>\n",
       "    </tr>\n",
       "  </tbody>\n",
       "</table>\n",
       "<p>5 rows × 33 columns</p>\n",
       "</div>"
      ],
      "text/plain": [
       "   months_as_customer  age policy_state  policy_deductable  \\\n",
       "0                 328   48           OH               1000   \n",
       "1                 228   42           IN               2000   \n",
       "2                 134   29           OH               2000   \n",
       "3                 256   41           IL               2000   \n",
       "4                 228   44           IL               1000   \n",
       "\n",
       "   policy_annual_premium  umbrella_limit insured_sex insured_education_level  \\\n",
       "0                1406.91               0        MALE                      MD   \n",
       "1                1197.22         5000000        MALE                      MD   \n",
       "2                1413.14         5000000      FEMALE                     PhD   \n",
       "3                1415.74         6000000      FEMALE                     PhD   \n",
       "4                1583.91         6000000        MALE               Associate   \n",
       "\n",
       "  insured_occupation insured_hobbies  ... bodily_injuries  witnesses  \\\n",
       "0       craft-repair        sleeping  ...               1          2   \n",
       "1  machine-op-inspct         reading  ...               0          0   \n",
       "2              sales     board-games  ...               2          3   \n",
       "3       armed-forces     board-games  ...               1          2   \n",
       "4              sales     board-games  ...               0          1   \n",
       "\n",
       "   police_report_available total_claim_amount injury_claim property_claim  \\\n",
       "0                        1              71610         6510          13020   \n",
       "1                        0               5070          780            780   \n",
       "2                        0              34650         7700           3850   \n",
       "3                        0              63400         6340           6340   \n",
       "4                        0               6500         1300            650   \n",
       "\n",
       "  vehicle_claim  auto_make auto_model fraud_reported  \n",
       "0         52080       Saab        92x              Y  \n",
       "1          3510   Mercedes       E400              Y  \n",
       "2         23100      Dodge        RAM              N  \n",
       "3         50720  Chevrolet      Tahoe              Y  \n",
       "4          4550     Accura        RSX              N  \n",
       "\n",
       "[5 rows x 33 columns]"
      ]
     },
     "execution_count": 48,
     "metadata": {},
     "output_type": "execute_result"
    }
   ],
   "source": [
    "#lets replace the categorical data in columns property_damage and police_report_available with suitable number\n",
    "# I am replacing '?' with most frequent number of that column\n",
    "df['property_damage'].replace('YES', 1, inplace=True)\n",
    "df['property_damage'].replace('NO', 0, inplace=True)\n",
    "df['property_damage'].replace('?', 0, inplace=True)\n",
    "df['police_report_available'].replace('YES', 1, inplace=True)\n",
    "df['police_report_available'].replace('NO',0, inplace=True)\n",
    "df['police_report_available'].replace('?', 0, inplace=True)\n",
    "df.head()"
   ]
  },
  {
   "cell_type": "code",
   "execution_count": 49,
   "id": "3408f73c",
   "metadata": {},
   "outputs": [
    {
     "data": {
      "text/html": [
       "<div>\n",
       "<style scoped>\n",
       "    .dataframe tbody tr th:only-of-type {\n",
       "        vertical-align: middle;\n",
       "    }\n",
       "\n",
       "    .dataframe tbody tr th {\n",
       "        vertical-align: top;\n",
       "    }\n",
       "\n",
       "    .dataframe thead th {\n",
       "        text-align: right;\n",
       "    }\n",
       "</style>\n",
       "<table border=\"1\" class=\"dataframe\">\n",
       "  <thead>\n",
       "    <tr style=\"text-align: right;\">\n",
       "      <th></th>\n",
       "      <th>months_as_customer</th>\n",
       "      <th>age</th>\n",
       "      <th>policy_state</th>\n",
       "      <th>policy_deductable</th>\n",
       "      <th>policy_annual_premium</th>\n",
       "      <th>umbrella_limit</th>\n",
       "      <th>insured_sex</th>\n",
       "      <th>insured_education_level</th>\n",
       "      <th>insured_occupation</th>\n",
       "      <th>insured_hobbies</th>\n",
       "      <th>...</th>\n",
       "      <th>bodily_injuries</th>\n",
       "      <th>witnesses</th>\n",
       "      <th>police_report_available</th>\n",
       "      <th>total_claim_amount</th>\n",
       "      <th>injury_claim</th>\n",
       "      <th>property_claim</th>\n",
       "      <th>vehicle_claim</th>\n",
       "      <th>auto_make</th>\n",
       "      <th>auto_model</th>\n",
       "      <th>fraud_reported</th>\n",
       "    </tr>\n",
       "  </thead>\n",
       "  <tbody>\n",
       "    <tr>\n",
       "      <th>0</th>\n",
       "      <td>328</td>\n",
       "      <td>48</td>\n",
       "      <td>OH</td>\n",
       "      <td>1000</td>\n",
       "      <td>1406.91</td>\n",
       "      <td>0</td>\n",
       "      <td>MALE</td>\n",
       "      <td>MD</td>\n",
       "      <td>craft-repair</td>\n",
       "      <td>sleeping</td>\n",
       "      <td>...</td>\n",
       "      <td>1</td>\n",
       "      <td>2</td>\n",
       "      <td>1</td>\n",
       "      <td>71610</td>\n",
       "      <td>6510</td>\n",
       "      <td>13020</td>\n",
       "      <td>52080</td>\n",
       "      <td>Saab</td>\n",
       "      <td>92x</td>\n",
       "      <td>1</td>\n",
       "    </tr>\n",
       "    <tr>\n",
       "      <th>1</th>\n",
       "      <td>228</td>\n",
       "      <td>42</td>\n",
       "      <td>IN</td>\n",
       "      <td>2000</td>\n",
       "      <td>1197.22</td>\n",
       "      <td>5000000</td>\n",
       "      <td>MALE</td>\n",
       "      <td>MD</td>\n",
       "      <td>machine-op-inspct</td>\n",
       "      <td>reading</td>\n",
       "      <td>...</td>\n",
       "      <td>0</td>\n",
       "      <td>0</td>\n",
       "      <td>0</td>\n",
       "      <td>5070</td>\n",
       "      <td>780</td>\n",
       "      <td>780</td>\n",
       "      <td>3510</td>\n",
       "      <td>Mercedes</td>\n",
       "      <td>E400</td>\n",
       "      <td>1</td>\n",
       "    </tr>\n",
       "    <tr>\n",
       "      <th>2</th>\n",
       "      <td>134</td>\n",
       "      <td>29</td>\n",
       "      <td>OH</td>\n",
       "      <td>2000</td>\n",
       "      <td>1413.14</td>\n",
       "      <td>5000000</td>\n",
       "      <td>FEMALE</td>\n",
       "      <td>PhD</td>\n",
       "      <td>sales</td>\n",
       "      <td>board-games</td>\n",
       "      <td>...</td>\n",
       "      <td>2</td>\n",
       "      <td>3</td>\n",
       "      <td>0</td>\n",
       "      <td>34650</td>\n",
       "      <td>7700</td>\n",
       "      <td>3850</td>\n",
       "      <td>23100</td>\n",
       "      <td>Dodge</td>\n",
       "      <td>RAM</td>\n",
       "      <td>0</td>\n",
       "    </tr>\n",
       "    <tr>\n",
       "      <th>3</th>\n",
       "      <td>256</td>\n",
       "      <td>41</td>\n",
       "      <td>IL</td>\n",
       "      <td>2000</td>\n",
       "      <td>1415.74</td>\n",
       "      <td>6000000</td>\n",
       "      <td>FEMALE</td>\n",
       "      <td>PhD</td>\n",
       "      <td>armed-forces</td>\n",
       "      <td>board-games</td>\n",
       "      <td>...</td>\n",
       "      <td>1</td>\n",
       "      <td>2</td>\n",
       "      <td>0</td>\n",
       "      <td>63400</td>\n",
       "      <td>6340</td>\n",
       "      <td>6340</td>\n",
       "      <td>50720</td>\n",
       "      <td>Chevrolet</td>\n",
       "      <td>Tahoe</td>\n",
       "      <td>1</td>\n",
       "    </tr>\n",
       "    <tr>\n",
       "      <th>4</th>\n",
       "      <td>228</td>\n",
       "      <td>44</td>\n",
       "      <td>IL</td>\n",
       "      <td>1000</td>\n",
       "      <td>1583.91</td>\n",
       "      <td>6000000</td>\n",
       "      <td>MALE</td>\n",
       "      <td>Associate</td>\n",
       "      <td>sales</td>\n",
       "      <td>board-games</td>\n",
       "      <td>...</td>\n",
       "      <td>0</td>\n",
       "      <td>1</td>\n",
       "      <td>0</td>\n",
       "      <td>6500</td>\n",
       "      <td>1300</td>\n",
       "      <td>650</td>\n",
       "      <td>4550</td>\n",
       "      <td>Accura</td>\n",
       "      <td>RSX</td>\n",
       "      <td>0</td>\n",
       "    </tr>\n",
       "  </tbody>\n",
       "</table>\n",
       "<p>5 rows × 33 columns</p>\n",
       "</div>"
      ],
      "text/plain": [
       "   months_as_customer  age policy_state  policy_deductable  \\\n",
       "0                 328   48           OH               1000   \n",
       "1                 228   42           IN               2000   \n",
       "2                 134   29           OH               2000   \n",
       "3                 256   41           IL               2000   \n",
       "4                 228   44           IL               1000   \n",
       "\n",
       "   policy_annual_premium  umbrella_limit insured_sex insured_education_level  \\\n",
       "0                1406.91               0        MALE                      MD   \n",
       "1                1197.22         5000000        MALE                      MD   \n",
       "2                1413.14         5000000      FEMALE                     PhD   \n",
       "3                1415.74         6000000      FEMALE                     PhD   \n",
       "4                1583.91         6000000        MALE               Associate   \n",
       "\n",
       "  insured_occupation insured_hobbies  ... bodily_injuries  witnesses  \\\n",
       "0       craft-repair        sleeping  ...               1          2   \n",
       "1  machine-op-inspct         reading  ...               0          0   \n",
       "2              sales     board-games  ...               2          3   \n",
       "3       armed-forces     board-games  ...               1          2   \n",
       "4              sales     board-games  ...               0          1   \n",
       "\n",
       "   police_report_available total_claim_amount injury_claim property_claim  \\\n",
       "0                        1              71610         6510          13020   \n",
       "1                        0               5070          780            780   \n",
       "2                        0              34650         7700           3850   \n",
       "3                        0              63400         6340           6340   \n",
       "4                        0               6500         1300            650   \n",
       "\n",
       "  vehicle_claim  auto_make auto_model fraud_reported  \n",
       "0         52080       Saab        92x              1  \n",
       "1          3510   Mercedes       E400              1  \n",
       "2         23100      Dodge        RAM              0  \n",
       "3         50720  Chevrolet      Tahoe              1  \n",
       "4          4550     Accura        RSX              0  \n",
       "\n",
       "[5 rows x 33 columns]"
      ]
     },
     "execution_count": 49,
     "metadata": {},
     "output_type": "execute_result"
    }
   ],
   "source": [
    "#lets replace label data with 0 & 1\n",
    "df['fraud_reported'].replace('Y', 1, inplace = True)\n",
    "df['fraud_reported'].replace('N', 0, inplace = True)\n",
    "\n",
    "df.head()"
   ]
  },
  {
   "cell_type": "code",
   "execution_count": 50,
   "id": "42589452",
   "metadata": {},
   "outputs": [
    {
     "data": {
      "text/html": [
       "<div>\n",
       "<style scoped>\n",
       "    .dataframe tbody tr th:only-of-type {\n",
       "        vertical-align: middle;\n",
       "    }\n",
       "\n",
       "    .dataframe tbody tr th {\n",
       "        vertical-align: top;\n",
       "    }\n",
       "\n",
       "    .dataframe thead th {\n",
       "        text-align: right;\n",
       "    }\n",
       "</style>\n",
       "<table border=\"1\" class=\"dataframe\">\n",
       "  <thead>\n",
       "    <tr style=\"text-align: right;\">\n",
       "      <th></th>\n",
       "      <th>months_as_customer</th>\n",
       "      <th>age</th>\n",
       "      <th>policy_deductable</th>\n",
       "      <th>policy_annual_premium</th>\n",
       "      <th>umbrella_limit</th>\n",
       "      <th>capital-gains</th>\n",
       "      <th>capital-loss</th>\n",
       "      <th>incident_hour_of_the_day</th>\n",
       "      <th>number_of_vehicles_involved</th>\n",
       "      <th>property_damage</th>\n",
       "      <th>bodily_injuries</th>\n",
       "      <th>witnesses</th>\n",
       "      <th>police_report_available</th>\n",
       "      <th>total_claim_amount</th>\n",
       "      <th>injury_claim</th>\n",
       "      <th>property_claim</th>\n",
       "      <th>vehicle_claim</th>\n",
       "      <th>fraud_reported</th>\n",
       "    </tr>\n",
       "  </thead>\n",
       "  <tbody>\n",
       "    <tr>\n",
       "      <th>months_as_customer</th>\n",
       "      <td>1.000000</td>\n",
       "      <td>0.922098</td>\n",
       "      <td>0.026807</td>\n",
       "      <td>0.005018</td>\n",
       "      <td>0.015498</td>\n",
       "      <td>0.006399</td>\n",
       "      <td>0.020209</td>\n",
       "      <td>0.070639</td>\n",
       "      <td>0.014736</td>\n",
       "      <td>0.005488</td>\n",
       "      <td>-0.010162</td>\n",
       "      <td>0.058383</td>\n",
       "      <td>-0.022146</td>\n",
       "      <td>0.062108</td>\n",
       "      <td>0.065329</td>\n",
       "      <td>0.034940</td>\n",
       "      <td>0.061013</td>\n",
       "      <td>0.020544</td>\n",
       "    </tr>\n",
       "    <tr>\n",
       "      <th>age</th>\n",
       "      <td>0.922098</td>\n",
       "      <td>1.000000</td>\n",
       "      <td>0.029188</td>\n",
       "      <td>0.014404</td>\n",
       "      <td>0.018126</td>\n",
       "      <td>-0.007075</td>\n",
       "      <td>0.007368</td>\n",
       "      <td>0.087161</td>\n",
       "      <td>0.022102</td>\n",
       "      <td>-0.003408</td>\n",
       "      <td>-0.015679</td>\n",
       "      <td>0.052359</td>\n",
       "      <td>-0.020441</td>\n",
       "      <td>0.069863</td>\n",
       "      <td>0.075522</td>\n",
       "      <td>0.060898</td>\n",
       "      <td>0.062588</td>\n",
       "      <td>0.012143</td>\n",
       "    </tr>\n",
       "    <tr>\n",
       "      <th>policy_deductable</th>\n",
       "      <td>0.026807</td>\n",
       "      <td>0.029188</td>\n",
       "      <td>1.000000</td>\n",
       "      <td>-0.003245</td>\n",
       "      <td>0.010870</td>\n",
       "      <td>0.035212</td>\n",
       "      <td>-0.023544</td>\n",
       "      <td>0.060935</td>\n",
       "      <td>0.051214</td>\n",
       "      <td>0.015770</td>\n",
       "      <td>-0.022765</td>\n",
       "      <td>0.066639</td>\n",
       "      <td>0.038036</td>\n",
       "      <td>0.022839</td>\n",
       "      <td>0.039107</td>\n",
       "      <td>0.064792</td>\n",
       "      <td>0.005269</td>\n",
       "      <td>0.014817</td>\n",
       "    </tr>\n",
       "    <tr>\n",
       "      <th>policy_annual_premium</th>\n",
       "      <td>0.005018</td>\n",
       "      <td>0.014404</td>\n",
       "      <td>-0.003245</td>\n",
       "      <td>1.000000</td>\n",
       "      <td>-0.006247</td>\n",
       "      <td>-0.013738</td>\n",
       "      <td>0.023547</td>\n",
       "      <td>-0.001578</td>\n",
       "      <td>-0.045991</td>\n",
       "      <td>0.080738</td>\n",
       "      <td>0.026780</td>\n",
       "      <td>0.002332</td>\n",
       "      <td>0.021998</td>\n",
       "      <td>0.009094</td>\n",
       "      <td>-0.017633</td>\n",
       "      <td>-0.011654</td>\n",
       "      <td>0.020246</td>\n",
       "      <td>-0.014480</td>\n",
       "    </tr>\n",
       "    <tr>\n",
       "      <th>umbrella_limit</th>\n",
       "      <td>0.015498</td>\n",
       "      <td>0.018126</td>\n",
       "      <td>0.010870</td>\n",
       "      <td>-0.006247</td>\n",
       "      <td>1.000000</td>\n",
       "      <td>-0.047268</td>\n",
       "      <td>-0.024056</td>\n",
       "      <td>-0.023257</td>\n",
       "      <td>-0.021270</td>\n",
       "      <td>-0.076358</td>\n",
       "      <td>0.022743</td>\n",
       "      <td>-0.006738</td>\n",
       "      <td>-0.044771</td>\n",
       "      <td>-0.040344</td>\n",
       "      <td>-0.045412</td>\n",
       "      <td>-0.023790</td>\n",
       "      <td>-0.038584</td>\n",
       "      <td>0.058622</td>\n",
       "    </tr>\n",
       "    <tr>\n",
       "      <th>capital-gains</th>\n",
       "      <td>0.006399</td>\n",
       "      <td>-0.007075</td>\n",
       "      <td>0.035212</td>\n",
       "      <td>-0.013738</td>\n",
       "      <td>-0.047268</td>\n",
       "      <td>1.000000</td>\n",
       "      <td>-0.046904</td>\n",
       "      <td>-0.016406</td>\n",
       "      <td>0.061643</td>\n",
       "      <td>-0.000616</td>\n",
       "      <td>0.055829</td>\n",
       "      <td>-0.017651</td>\n",
       "      <td>-0.012939</td>\n",
       "      <td>0.015980</td>\n",
       "      <td>0.025934</td>\n",
       "      <td>-0.000779</td>\n",
       "      <td>0.015836</td>\n",
       "      <td>-0.019173</td>\n",
       "    </tr>\n",
       "    <tr>\n",
       "      <th>capital-loss</th>\n",
       "      <td>0.020209</td>\n",
       "      <td>0.007368</td>\n",
       "      <td>-0.023544</td>\n",
       "      <td>0.023547</td>\n",
       "      <td>-0.024056</td>\n",
       "      <td>-0.046904</td>\n",
       "      <td>1.000000</td>\n",
       "      <td>-0.025054</td>\n",
       "      <td>-0.014895</td>\n",
       "      <td>0.016981</td>\n",
       "      <td>-0.024418</td>\n",
       "      <td>-0.041330</td>\n",
       "      <td>-0.039256</td>\n",
       "      <td>-0.036060</td>\n",
       "      <td>-0.046060</td>\n",
       "      <td>-0.022863</td>\n",
       "      <td>-0.032665</td>\n",
       "      <td>-0.014863</td>\n",
       "    </tr>\n",
       "    <tr>\n",
       "      <th>incident_hour_of_the_day</th>\n",
       "      <td>0.070639</td>\n",
       "      <td>0.087161</td>\n",
       "      <td>0.060935</td>\n",
       "      <td>-0.001578</td>\n",
       "      <td>-0.023257</td>\n",
       "      <td>-0.016406</td>\n",
       "      <td>-0.025054</td>\n",
       "      <td>1.000000</td>\n",
       "      <td>0.120794</td>\n",
       "      <td>0.064425</td>\n",
       "      <td>-0.034563</td>\n",
       "      <td>0.006527</td>\n",
       "      <td>0.040558</td>\n",
       "      <td>0.217702</td>\n",
       "      <td>0.165768</td>\n",
       "      <td>0.179536</td>\n",
       "      <td>0.215626</td>\n",
       "      <td>0.004316</td>\n",
       "    </tr>\n",
       "    <tr>\n",
       "      <th>number_of_vehicles_involved</th>\n",
       "      <td>0.014736</td>\n",
       "      <td>0.022102</td>\n",
       "      <td>0.051214</td>\n",
       "      <td>-0.045991</td>\n",
       "      <td>-0.021270</td>\n",
       "      <td>0.061643</td>\n",
       "      <td>-0.014895</td>\n",
       "      <td>0.120794</td>\n",
       "      <td>1.000000</td>\n",
       "      <td>-0.013641</td>\n",
       "      <td>0.014030</td>\n",
       "      <td>-0.014669</td>\n",
       "      <td>-0.007291</td>\n",
       "      <td>0.274278</td>\n",
       "      <td>0.224650</td>\n",
       "      <td>0.219084</td>\n",
       "      <td>0.269393</td>\n",
       "      <td>0.051839</td>\n",
       "    </tr>\n",
       "    <tr>\n",
       "      <th>property_damage</th>\n",
       "      <td>0.005488</td>\n",
       "      <td>-0.003408</td>\n",
       "      <td>0.015770</td>\n",
       "      <td>0.080738</td>\n",
       "      <td>-0.076358</td>\n",
       "      <td>-0.000616</td>\n",
       "      <td>0.016981</td>\n",
       "      <td>0.064425</td>\n",
       "      <td>-0.013641</td>\n",
       "      <td>1.000000</td>\n",
       "      <td>0.003762</td>\n",
       "      <td>-0.019753</td>\n",
       "      <td>-0.022657</td>\n",
       "      <td>0.060597</td>\n",
       "      <td>0.048886</td>\n",
       "      <td>0.045211</td>\n",
       "      <td>0.060526</td>\n",
       "      <td>0.017202</td>\n",
       "    </tr>\n",
       "    <tr>\n",
       "      <th>bodily_injuries</th>\n",
       "      <td>-0.010162</td>\n",
       "      <td>-0.015679</td>\n",
       "      <td>-0.022765</td>\n",
       "      <td>0.026780</td>\n",
       "      <td>0.022743</td>\n",
       "      <td>0.055829</td>\n",
       "      <td>-0.024418</td>\n",
       "      <td>-0.034563</td>\n",
       "      <td>0.014030</td>\n",
       "      <td>0.003762</td>\n",
       "      <td>1.000000</td>\n",
       "      <td>-0.005606</td>\n",
       "      <td>0.011860</td>\n",
       "      <td>0.047093</td>\n",
       "      <td>0.047319</td>\n",
       "      <td>0.039749</td>\n",
       "      <td>0.043449</td>\n",
       "      <td>0.033877</td>\n",
       "    </tr>\n",
       "    <tr>\n",
       "      <th>witnesses</th>\n",
       "      <td>0.058383</td>\n",
       "      <td>0.052359</td>\n",
       "      <td>0.066639</td>\n",
       "      <td>0.002332</td>\n",
       "      <td>-0.006738</td>\n",
       "      <td>-0.017651</td>\n",
       "      <td>-0.041330</td>\n",
       "      <td>0.006527</td>\n",
       "      <td>-0.014669</td>\n",
       "      <td>-0.019753</td>\n",
       "      <td>-0.005606</td>\n",
       "      <td>1.000000</td>\n",
       "      <td>0.048653</td>\n",
       "      <td>-0.011114</td>\n",
       "      <td>-0.024843</td>\n",
       "      <td>0.052640</td>\n",
       "      <td>-0.022564</td>\n",
       "      <td>0.049497</td>\n",
       "    </tr>\n",
       "    <tr>\n",
       "      <th>police_report_available</th>\n",
       "      <td>-0.022146</td>\n",
       "      <td>-0.020441</td>\n",
       "      <td>0.038036</td>\n",
       "      <td>0.021998</td>\n",
       "      <td>-0.044771</td>\n",
       "      <td>-0.012939</td>\n",
       "      <td>-0.039256</td>\n",
       "      <td>0.040558</td>\n",
       "      <td>-0.007291</td>\n",
       "      <td>-0.022657</td>\n",
       "      <td>0.011860</td>\n",
       "      <td>0.048653</td>\n",
       "      <td>1.000000</td>\n",
       "      <td>0.036085</td>\n",
       "      <td>0.028211</td>\n",
       "      <td>0.012423</td>\n",
       "      <td>0.039979</td>\n",
       "      <td>-0.027768</td>\n",
       "    </tr>\n",
       "    <tr>\n",
       "      <th>total_claim_amount</th>\n",
       "      <td>0.062108</td>\n",
       "      <td>0.069863</td>\n",
       "      <td>0.022839</td>\n",
       "      <td>0.009094</td>\n",
       "      <td>-0.040344</td>\n",
       "      <td>0.015980</td>\n",
       "      <td>-0.036060</td>\n",
       "      <td>0.217702</td>\n",
       "      <td>0.274278</td>\n",
       "      <td>0.060597</td>\n",
       "      <td>0.047093</td>\n",
       "      <td>-0.011114</td>\n",
       "      <td>0.036085</td>\n",
       "      <td>1.000000</td>\n",
       "      <td>0.805025</td>\n",
       "      <td>0.810686</td>\n",
       "      <td>0.982773</td>\n",
       "      <td>0.163651</td>\n",
       "    </tr>\n",
       "    <tr>\n",
       "      <th>injury_claim</th>\n",
       "      <td>0.065329</td>\n",
       "      <td>0.075522</td>\n",
       "      <td>0.039107</td>\n",
       "      <td>-0.017633</td>\n",
       "      <td>-0.045412</td>\n",
       "      <td>0.025934</td>\n",
       "      <td>-0.046060</td>\n",
       "      <td>0.165768</td>\n",
       "      <td>0.224650</td>\n",
       "      <td>0.048886</td>\n",
       "      <td>0.047319</td>\n",
       "      <td>-0.024843</td>\n",
       "      <td>0.028211</td>\n",
       "      <td>0.805025</td>\n",
       "      <td>1.000000</td>\n",
       "      <td>0.563866</td>\n",
       "      <td>0.722878</td>\n",
       "      <td>0.090975</td>\n",
       "    </tr>\n",
       "    <tr>\n",
       "      <th>property_claim</th>\n",
       "      <td>0.034940</td>\n",
       "      <td>0.060898</td>\n",
       "      <td>0.064792</td>\n",
       "      <td>-0.011654</td>\n",
       "      <td>-0.023790</td>\n",
       "      <td>-0.000779</td>\n",
       "      <td>-0.022863</td>\n",
       "      <td>0.179536</td>\n",
       "      <td>0.219084</td>\n",
       "      <td>0.045211</td>\n",
       "      <td>0.039749</td>\n",
       "      <td>0.052640</td>\n",
       "      <td>0.012423</td>\n",
       "      <td>0.810686</td>\n",
       "      <td>0.563866</td>\n",
       "      <td>1.000000</td>\n",
       "      <td>0.732090</td>\n",
       "      <td>0.137835</td>\n",
       "    </tr>\n",
       "    <tr>\n",
       "      <th>vehicle_claim</th>\n",
       "      <td>0.061013</td>\n",
       "      <td>0.062588</td>\n",
       "      <td>0.005269</td>\n",
       "      <td>0.020246</td>\n",
       "      <td>-0.038584</td>\n",
       "      <td>0.015836</td>\n",
       "      <td>-0.032665</td>\n",
       "      <td>0.215626</td>\n",
       "      <td>0.269393</td>\n",
       "      <td>0.060526</td>\n",
       "      <td>0.043449</td>\n",
       "      <td>-0.022564</td>\n",
       "      <td>0.039979</td>\n",
       "      <td>0.982773</td>\n",
       "      <td>0.722878</td>\n",
       "      <td>0.732090</td>\n",
       "      <td>1.000000</td>\n",
       "      <td>0.170049</td>\n",
       "    </tr>\n",
       "    <tr>\n",
       "      <th>fraud_reported</th>\n",
       "      <td>0.020544</td>\n",
       "      <td>0.012143</td>\n",
       "      <td>0.014817</td>\n",
       "      <td>-0.014480</td>\n",
       "      <td>0.058622</td>\n",
       "      <td>-0.019173</td>\n",
       "      <td>-0.014863</td>\n",
       "      <td>0.004316</td>\n",
       "      <td>0.051839</td>\n",
       "      <td>0.017202</td>\n",
       "      <td>0.033877</td>\n",
       "      <td>0.049497</td>\n",
       "      <td>-0.027768</td>\n",
       "      <td>0.163651</td>\n",
       "      <td>0.090975</td>\n",
       "      <td>0.137835</td>\n",
       "      <td>0.170049</td>\n",
       "      <td>1.000000</td>\n",
       "    </tr>\n",
       "  </tbody>\n",
       "</table>\n",
       "</div>"
      ],
      "text/plain": [
       "                             months_as_customer       age  policy_deductable  \\\n",
       "months_as_customer                     1.000000  0.922098           0.026807   \n",
       "age                                    0.922098  1.000000           0.029188   \n",
       "policy_deductable                      0.026807  0.029188           1.000000   \n",
       "policy_annual_premium                  0.005018  0.014404          -0.003245   \n",
       "umbrella_limit                         0.015498  0.018126           0.010870   \n",
       "capital-gains                          0.006399 -0.007075           0.035212   \n",
       "capital-loss                           0.020209  0.007368          -0.023544   \n",
       "incident_hour_of_the_day               0.070639  0.087161           0.060935   \n",
       "number_of_vehicles_involved            0.014736  0.022102           0.051214   \n",
       "property_damage                        0.005488 -0.003408           0.015770   \n",
       "bodily_injuries                       -0.010162 -0.015679          -0.022765   \n",
       "witnesses                              0.058383  0.052359           0.066639   \n",
       "police_report_available               -0.022146 -0.020441           0.038036   \n",
       "total_claim_amount                     0.062108  0.069863           0.022839   \n",
       "injury_claim                           0.065329  0.075522           0.039107   \n",
       "property_claim                         0.034940  0.060898           0.064792   \n",
       "vehicle_claim                          0.061013  0.062588           0.005269   \n",
       "fraud_reported                         0.020544  0.012143           0.014817   \n",
       "\n",
       "                             policy_annual_premium  umbrella_limit  \\\n",
       "months_as_customer                        0.005018        0.015498   \n",
       "age                                       0.014404        0.018126   \n",
       "policy_deductable                        -0.003245        0.010870   \n",
       "policy_annual_premium                     1.000000       -0.006247   \n",
       "umbrella_limit                           -0.006247        1.000000   \n",
       "capital-gains                            -0.013738       -0.047268   \n",
       "capital-loss                              0.023547       -0.024056   \n",
       "incident_hour_of_the_day                 -0.001578       -0.023257   \n",
       "number_of_vehicles_involved              -0.045991       -0.021270   \n",
       "property_damage                           0.080738       -0.076358   \n",
       "bodily_injuries                           0.026780        0.022743   \n",
       "witnesses                                 0.002332       -0.006738   \n",
       "police_report_available                   0.021998       -0.044771   \n",
       "total_claim_amount                        0.009094       -0.040344   \n",
       "injury_claim                             -0.017633       -0.045412   \n",
       "property_claim                           -0.011654       -0.023790   \n",
       "vehicle_claim                             0.020246       -0.038584   \n",
       "fraud_reported                           -0.014480        0.058622   \n",
       "\n",
       "                             capital-gains  capital-loss  \\\n",
       "months_as_customer                0.006399      0.020209   \n",
       "age                              -0.007075      0.007368   \n",
       "policy_deductable                 0.035212     -0.023544   \n",
       "policy_annual_premium            -0.013738      0.023547   \n",
       "umbrella_limit                   -0.047268     -0.024056   \n",
       "capital-gains                     1.000000     -0.046904   \n",
       "capital-loss                     -0.046904      1.000000   \n",
       "incident_hour_of_the_day         -0.016406     -0.025054   \n",
       "number_of_vehicles_involved       0.061643     -0.014895   \n",
       "property_damage                  -0.000616      0.016981   \n",
       "bodily_injuries                   0.055829     -0.024418   \n",
       "witnesses                        -0.017651     -0.041330   \n",
       "police_report_available          -0.012939     -0.039256   \n",
       "total_claim_amount                0.015980     -0.036060   \n",
       "injury_claim                      0.025934     -0.046060   \n",
       "property_claim                   -0.000779     -0.022863   \n",
       "vehicle_claim                     0.015836     -0.032665   \n",
       "fraud_reported                   -0.019173     -0.014863   \n",
       "\n",
       "                             incident_hour_of_the_day  \\\n",
       "months_as_customer                           0.070639   \n",
       "age                                          0.087161   \n",
       "policy_deductable                            0.060935   \n",
       "policy_annual_premium                       -0.001578   \n",
       "umbrella_limit                              -0.023257   \n",
       "capital-gains                               -0.016406   \n",
       "capital-loss                                -0.025054   \n",
       "incident_hour_of_the_day                     1.000000   \n",
       "number_of_vehicles_involved                  0.120794   \n",
       "property_damage                              0.064425   \n",
       "bodily_injuries                             -0.034563   \n",
       "witnesses                                    0.006527   \n",
       "police_report_available                      0.040558   \n",
       "total_claim_amount                           0.217702   \n",
       "injury_claim                                 0.165768   \n",
       "property_claim                               0.179536   \n",
       "vehicle_claim                                0.215626   \n",
       "fraud_reported                               0.004316   \n",
       "\n",
       "                             number_of_vehicles_involved  property_damage  \\\n",
       "months_as_customer                              0.014736         0.005488   \n",
       "age                                             0.022102        -0.003408   \n",
       "policy_deductable                               0.051214         0.015770   \n",
       "policy_annual_premium                          -0.045991         0.080738   \n",
       "umbrella_limit                                 -0.021270        -0.076358   \n",
       "capital-gains                                   0.061643        -0.000616   \n",
       "capital-loss                                   -0.014895         0.016981   \n",
       "incident_hour_of_the_day                        0.120794         0.064425   \n",
       "number_of_vehicles_involved                     1.000000        -0.013641   \n",
       "property_damage                                -0.013641         1.000000   \n",
       "bodily_injuries                                 0.014030         0.003762   \n",
       "witnesses                                      -0.014669        -0.019753   \n",
       "police_report_available                        -0.007291        -0.022657   \n",
       "total_claim_amount                              0.274278         0.060597   \n",
       "injury_claim                                    0.224650         0.048886   \n",
       "property_claim                                  0.219084         0.045211   \n",
       "vehicle_claim                                   0.269393         0.060526   \n",
       "fraud_reported                                  0.051839         0.017202   \n",
       "\n",
       "                             bodily_injuries  witnesses  \\\n",
       "months_as_customer                 -0.010162   0.058383   \n",
       "age                                -0.015679   0.052359   \n",
       "policy_deductable                  -0.022765   0.066639   \n",
       "policy_annual_premium               0.026780   0.002332   \n",
       "umbrella_limit                      0.022743  -0.006738   \n",
       "capital-gains                       0.055829  -0.017651   \n",
       "capital-loss                       -0.024418  -0.041330   \n",
       "incident_hour_of_the_day           -0.034563   0.006527   \n",
       "number_of_vehicles_involved         0.014030  -0.014669   \n",
       "property_damage                     0.003762  -0.019753   \n",
       "bodily_injuries                     1.000000  -0.005606   \n",
       "witnesses                          -0.005606   1.000000   \n",
       "police_report_available             0.011860   0.048653   \n",
       "total_claim_amount                  0.047093  -0.011114   \n",
       "injury_claim                        0.047319  -0.024843   \n",
       "property_claim                      0.039749   0.052640   \n",
       "vehicle_claim                       0.043449  -0.022564   \n",
       "fraud_reported                      0.033877   0.049497   \n",
       "\n",
       "                             police_report_available  total_claim_amount  \\\n",
       "months_as_customer                         -0.022146            0.062108   \n",
       "age                                        -0.020441            0.069863   \n",
       "policy_deductable                           0.038036            0.022839   \n",
       "policy_annual_premium                       0.021998            0.009094   \n",
       "umbrella_limit                             -0.044771           -0.040344   \n",
       "capital-gains                              -0.012939            0.015980   \n",
       "capital-loss                               -0.039256           -0.036060   \n",
       "incident_hour_of_the_day                    0.040558            0.217702   \n",
       "number_of_vehicles_involved                -0.007291            0.274278   \n",
       "property_damage                            -0.022657            0.060597   \n",
       "bodily_injuries                             0.011860            0.047093   \n",
       "witnesses                                   0.048653           -0.011114   \n",
       "police_report_available                     1.000000            0.036085   \n",
       "total_claim_amount                          0.036085            1.000000   \n",
       "injury_claim                                0.028211            0.805025   \n",
       "property_claim                              0.012423            0.810686   \n",
       "vehicle_claim                               0.039979            0.982773   \n",
       "fraud_reported                             -0.027768            0.163651   \n",
       "\n",
       "                             injury_claim  property_claim  vehicle_claim  \\\n",
       "months_as_customer               0.065329        0.034940       0.061013   \n",
       "age                              0.075522        0.060898       0.062588   \n",
       "policy_deductable                0.039107        0.064792       0.005269   \n",
       "policy_annual_premium           -0.017633       -0.011654       0.020246   \n",
       "umbrella_limit                  -0.045412       -0.023790      -0.038584   \n",
       "capital-gains                    0.025934       -0.000779       0.015836   \n",
       "capital-loss                    -0.046060       -0.022863      -0.032665   \n",
       "incident_hour_of_the_day         0.165768        0.179536       0.215626   \n",
       "number_of_vehicles_involved      0.224650        0.219084       0.269393   \n",
       "property_damage                  0.048886        0.045211       0.060526   \n",
       "bodily_injuries                  0.047319        0.039749       0.043449   \n",
       "witnesses                       -0.024843        0.052640      -0.022564   \n",
       "police_report_available          0.028211        0.012423       0.039979   \n",
       "total_claim_amount               0.805025        0.810686       0.982773   \n",
       "injury_claim                     1.000000        0.563866       0.722878   \n",
       "property_claim                   0.563866        1.000000       0.732090   \n",
       "vehicle_claim                    0.722878        0.732090       1.000000   \n",
       "fraud_reported                   0.090975        0.137835       0.170049   \n",
       "\n",
       "                             fraud_reported  \n",
       "months_as_customer                 0.020544  \n",
       "age                                0.012143  \n",
       "policy_deductable                  0.014817  \n",
       "policy_annual_premium             -0.014480  \n",
       "umbrella_limit                     0.058622  \n",
       "capital-gains                     -0.019173  \n",
       "capital-loss                      -0.014863  \n",
       "incident_hour_of_the_day           0.004316  \n",
       "number_of_vehicles_involved        0.051839  \n",
       "property_damage                    0.017202  \n",
       "bodily_injuries                    0.033877  \n",
       "witnesses                          0.049497  \n",
       "police_report_available           -0.027768  \n",
       "total_claim_amount                 0.163651  \n",
       "injury_claim                       0.090975  \n",
       "property_claim                     0.137835  \n",
       "vehicle_claim                      0.170049  \n",
       "fraud_reported                     1.000000  "
      ]
     },
     "execution_count": 50,
     "metadata": {},
     "output_type": "execute_result"
    }
   ],
   "source": [
    "df.corr()"
   ]
  },
  {
   "cell_type": "code",
   "execution_count": 51,
   "id": "62d214b1",
   "metadata": {},
   "outputs": [
    {
     "data": {
      "image/png": "[encoded data removed]",
      "text/plain": [
       "<Figure size 864x864 with 2 Axes>"
      ]
     },
     "metadata": {
      "needs_background": "light"
     },
     "output_type": "display_data"
    }
   ],
   "source": [
    "corr = df.corr()\n",
    "plt.figure(figsize = (12,12))\n",
    "sns.heatmap(corr, annot = True,cmap = 'gist_earth',fmt = '.2f')\n",
    "plt.title(\"Correlation Matrix for Numerical Data \")\n",
    "plt.show()"
   ]
  },
  {
   "cell_type": "code",
   "execution_count": null,
   "id": "94e101b1",
   "metadata": {},
   "outputs": [],
   "source": []
  },
  {
   "cell_type": "markdown",
   "id": "32992b90",
   "metadata": {},
   "source": [
    "### Outliers Detection "
   ]
  },
  {
   "cell_type": "code",
   "execution_count": 52,
   "id": "45b8fc1e",
   "metadata": {},
   "outputs": [
    {
     "data": {
      "image/png": "[encoded data removed]",
      "text/plain": [
       "<Figure size 1800x720 with 17 Axes>"
      ]
     },
     "metadata": {
      "needs_background": "light"
     },
     "output_type": "display_data"
    }
   ],
   "source": [
    "#lets check outliers from continuous columns\n",
    "num_data = df._get_numeric_data()\n",
    "plt.figure(figsize = (25,10))\n",
    "plotnumber = 1\n",
    "for column in num_data:\n",
    "    if plotnumber <=17:\n",
    "        ax = plt.subplot(5,4,plotnumber)\n",
    "        sns.boxplot(num_data[column])\n",
    "        plt.xlabel(column,fontsize = 20)\n",
    "    plotnumber+=1\n",
    "plt.tight_layout()"
   ]
  },
  {
   "cell_type": "code",
   "execution_count": 53,
   "id": "09667734",
   "metadata": {},
   "outputs": [],
   "source": [
    "# from boxplot very less outlier can be seen "
   ]
  },
  {
   "cell_type": "code",
   "execution_count": 54,
   "id": "5c8d948d",
   "metadata": {},
   "outputs": [],
   "source": [
    "#lets remove outliers using zscore method\n",
    "from scipy import stats\n",
    "from scipy.stats import zscore\n",
    "z_score = zscore(df[[\"age\",\"policy_annual_premium\",\"umbrella_limit\",\"total_claim_amount\",\"property_claim\"]])\n",
    "abs_z_score = np.abs(z_score)\n",
    "filtering_entry = (abs_z_score < 3).all(axis = 1)\n",
    "df1 = df[filtering_entry]\n",
    "df1.reset_index(inplace = True)"
   ]
  },
  {
   "cell_type": "code",
   "execution_count": 55,
   "id": "c9fd222f",
   "metadata": {},
   "outputs": [
    {
     "data": {
      "text/plain": [
       "(981, 34)"
      ]
     },
     "execution_count": 55,
     "metadata": {},
     "output_type": "execute_result"
    }
   ],
   "source": [
    "df1.shape"
   ]
  },
  {
   "cell_type": "code",
   "execution_count": 56,
   "id": "09d07a35",
   "metadata": {
    "scrolled": true
   },
   "outputs": [
    {
     "name": "stdout",
     "output_type": "stream",
     "text": [
      "shape before removing the outliers (1000, 33)\n",
      "shape after removing the outliers (983, 33)\n"
     ]
    },
    {
     "data": {
      "text/plain": [
       "1.9"
      ]
     },
     "execution_count": 56,
     "metadata": {},
     "output_type": "execute_result"
    }
   ],
   "source": [
    "print(\"shape before removing the outliers\",df.shape)\n",
    "df1=df[(z_score<3).all(axis=1)]\n",
    "print(\"shape after removing the outliers\",df1.shape)\n",
    "\n",
    "Dataloss=((1000-981)/1000)*100\n",
    "Dataloss"
   ]
  },
  {
   "cell_type": "code",
   "execution_count": 57,
   "id": "137c9e96",
   "metadata": {},
   "outputs": [],
   "source": [
    "# Data loss is about 2% which is not bad for analysis"
   ]
  },
  {
   "cell_type": "code",
   "execution_count": 58,
   "id": "d8ef2664",
   "metadata": {},
   "outputs": [
    {
     "data": {
      "image/png": "[encoded data removed]",
      "text/plain": [
       "<Figure size 1800x720 with 17 Axes>"
      ]
     },
     "metadata": {
      "needs_background": "light"
     },
     "output_type": "display_data"
    }
   ],
   "source": [
    "#lets check outliers from continuous columns\n",
    "num_data = df._get_numeric_data()\n",
    "plt.figure(figsize = (25,10))\n",
    "plotnumber = 1\n",
    "for column in num_data:\n",
    "    if plotnumber <=17:\n",
    "        ax = plt.subplot(5,4,plotnumber)\n",
    "        sns.boxplot(num_data[column])\n",
    "        plt.xlabel(column,fontsize = 20)\n",
    "    plotnumber+=1\n",
    "plt.tight_layout()"
   ]
  },
  {
   "cell_type": "markdown",
   "id": "4b65a8da",
   "metadata": {},
   "source": [
    "### Skewness"
   ]
  },
  {
   "cell_type": "code",
   "execution_count": 59,
   "id": "37c6b4c2",
   "metadata": {},
   "outputs": [
    {
     "data": {
      "text/plain": [
       "months_as_customer             0.362177\n",
       "age                            0.478988\n",
       "policy_deductable              0.477887\n",
       "policy_annual_premium          0.004402\n",
       "umbrella_limit                 1.806712\n",
       "capital-gains                  0.478850\n",
       "capital-loss                  -0.391472\n",
       "incident_hour_of_the_day      -0.035584\n",
       "number_of_vehicles_involved    0.502664\n",
       "property_damage                0.863806\n",
       "bodily_injuries                0.014777\n",
       "witnesses                      0.019636\n",
       "police_report_available        0.802728\n",
       "total_claim_amount            -0.594582\n",
       "injury_claim                   0.264811\n",
       "property_claim                 0.378169\n",
       "vehicle_claim                 -0.621098\n",
       "fraud_reported                 1.175051\n",
       "dtype: float64"
      ]
     },
     "execution_count": 59,
     "metadata": {},
     "output_type": "execute_result"
    }
   ],
   "source": [
    "#first check the skewness\n",
    "df.skew()"
   ]
  },
  {
   "cell_type": "markdown",
   "id": "d25a9dca",
   "metadata": {},
   "source": [
    "### Removing Outliers"
   ]
  },
  {
   "cell_type": "code",
   "execution_count": 60,
   "id": "2a54ff4d",
   "metadata": {},
   "outputs": [],
   "source": [
    "#lets remove outliers using zscore method\n",
    "from scipy import stats\n",
    "from scipy.stats import zscore\n",
    "z_score = zscore(df[[\"age\",\"policy_annual_premium\",\"umbrella_limit\",\"total_claim_amount\",\"property_claim\"]])\n",
    "abs_z_score = np.abs(z_score)\n",
    "filtering_entry = (abs_z_score < 3).all(axis = 1)\n",
    "df = df[filtering_entry]\n",
    "df.reset_index(inplace = True)"
   ]
  },
  {
   "cell_type": "code",
   "execution_count": 61,
   "id": "dd798182",
   "metadata": {},
   "outputs": [
    {
     "data": {
      "text/plain": [
       "(981, 34)"
      ]
     },
     "execution_count": 61,
     "metadata": {},
     "output_type": "execute_result"
    }
   ],
   "source": [
    "df.shape"
   ]
  },
  {
   "cell_type": "markdown",
   "id": "31014a0c",
   "metadata": {},
   "source": [
    "By removing outliers we are loosing about 2% of data, which is acceptable."
   ]
  },
  {
   "cell_type": "code",
   "execution_count": 62,
   "id": "e640efc1",
   "metadata": {},
   "outputs": [],
   "source": [
    "#lets drop index column\n",
    "df.drop(columns = 'index', inplace = True)"
   ]
  },
  {
   "cell_type": "code",
   "execution_count": 63,
   "id": "01423cf9",
   "metadata": {},
   "outputs": [
    {
     "data": {
      "text/plain": [
       "months_as_customer             0.363268\n",
       "age                            0.475942\n",
       "policy_deductable              0.473431\n",
       "policy_annual_premium          0.034884\n",
       "umbrella_limit                 1.803065\n",
       "capital-gains                  0.465985\n",
       "capital-loss                  -0.390468\n",
       "incident_hour_of_the_day      -0.038146\n",
       "number_of_vehicles_involved    0.506989\n",
       "property_damage                0.854687\n",
       "bodily_injuries                0.001877\n",
       "witnesses                      0.024567\n",
       "police_report_available        0.797825\n",
       "total_claim_amount            -0.595242\n",
       "injury_claim                   0.269442\n",
       "property_claim                 0.358919\n",
       "vehicle_claim                 -0.622528\n",
       "fraud_reported                 1.189838\n",
       "dtype: float64"
      ]
     },
     "execution_count": 63,
     "metadata": {},
     "output_type": "execute_result"
    }
   ],
   "source": [
    "#lets check the skewness after removing outliers\n",
    "df.skew()"
   ]
  },
  {
   "cell_type": "markdown",
   "id": "06654e25",
   "metadata": {},
   "source": [
    "## Separate features and label as x and y respectively"
   ]
  },
  {
   "cell_type": "code",
   "execution_count": 64,
   "id": "cecef312",
   "metadata": {},
   "outputs": [],
   "source": [
    "# lets saperate label and features\n",
    "x = df.drop(columns = 'fraud_reported')\n",
    "y = df['fraud_reported']"
   ]
  },
  {
   "cell_type": "code",
   "execution_count": 65,
   "id": "e6b955f9",
   "metadata": {},
   "outputs": [],
   "source": [
    "#lets separate numerical and categorical features for scaling and encoding\n",
    "num = x._get_numeric_data()\n",
    "cat = x.select_dtypes(include=['object'])"
   ]
  },
  {
   "cell_type": "code",
   "execution_count": 66,
   "id": "3d851523",
   "metadata": {},
   "outputs": [],
   "source": [
    "#Lets treat the skewness from numerical columns\n",
    "for index in num.skew().index:\n",
    "    if num.skew().loc[index]>0.5:\n",
    "        num[index]=np.cbrt(num[index])\n",
    "    if num.skew().loc[index]<-0.5:\n",
    "        num[index]=np.log1p(num[index])"
   ]
  },
  {
   "cell_type": "code",
   "execution_count": 67,
   "id": "c86c5ffc",
   "metadata": {},
   "outputs": [
    {
     "data": {
      "text/plain": [
       "months_as_customer             0.363268\n",
       "age                            0.475942\n",
       "policy_deductable              0.473431\n",
       "policy_annual_premium          0.034884\n",
       "umbrella_limit                 1.605531\n",
       "capital-gains                  0.465985\n",
       "capital-loss                  -0.390468\n",
       "incident_hour_of_the_day      -0.038146\n",
       "number_of_vehicles_involved    0.428659\n",
       "property_damage                0.854687\n",
       "bodily_injuries                0.001877\n",
       "witnesses                      0.024567\n",
       "police_report_available        0.797825\n",
       "total_claim_amount            -1.667747\n",
       "injury_claim                   0.269442\n",
       "property_claim                 0.358919\n",
       "vehicle_claim                 -1.676973\n",
       "dtype: float64"
      ]
     },
     "execution_count": 67,
     "metadata": {},
     "output_type": "execute_result"
    }
   ],
   "source": [
    "num.skew()"
   ]
  },
  {
   "cell_type": "markdown",
   "id": "a43534bf",
   "metadata": {},
   "source": [
    "### Applying StandardScaler"
   ]
  },
  {
   "cell_type": "code",
   "execution_count": 68,
   "id": "a3c37feb",
   "metadata": {},
   "outputs": [],
   "source": [
    "#Lets bring all numerical features to common scale by applying standard scaler\n",
    "scaler = StandardScaler()\n",
    "x_num = scaler.fit_transform(num)\n",
    "x_num = pd.DataFrame(x_num,columns=num.columns)"
   ]
  },
  {
   "cell_type": "code",
   "execution_count": 69,
   "id": "663e64db",
   "metadata": {},
   "outputs": [],
   "source": [
    "#combine both numerical and categorical features\n",
    "X = pd.concat([num,cat], axis = 1)"
   ]
  },
  {
   "cell_type": "markdown",
   "id": "d5a13440",
   "metadata": {},
   "source": [
    "### Encoding"
   ]
  },
  {
   "cell_type": "code",
   "execution_count": 70,
   "id": "aa48614a",
   "metadata": {},
   "outputs": [],
   "source": [
    "#lets convert categorical data into numeric values, using OrdinalEncoder\n",
    "from sklearn.preprocessing import OrdinalEncoder\n",
    "enc = OrdinalEncoder()\n",
    "for i in X.columns:\n",
    "    if X[i].dtypes == \"object\" :\n",
    "        X[i] = enc.fit_transform(X[i].values.reshape(-1,1))"
   ]
  },
  {
   "cell_type": "code",
   "execution_count": 71,
   "id": "a64fb9e9",
   "metadata": {},
   "outputs": [
    {
     "data": {
      "text/html": [
       "<div>\n",
       "<style scoped>\n",
       "    .dataframe tbody tr th:only-of-type {\n",
       "        vertical-align: middle;\n",
       "    }\n",
       "\n",
       "    .dataframe tbody tr th {\n",
       "        vertical-align: top;\n",
       "    }\n",
       "\n",
       "    .dataframe thead th {\n",
       "        text-align: right;\n",
       "    }\n",
       "</style>\n",
       "<table border=\"1\" class=\"dataframe\">\n",
       "  <thead>\n",
       "    <tr style=\"text-align: right;\">\n",
       "      <th></th>\n",
       "      <th>months_as_customer</th>\n",
       "      <th>age</th>\n",
       "      <th>policy_deductable</th>\n",
       "      <th>policy_annual_premium</th>\n",
       "      <th>umbrella_limit</th>\n",
       "      <th>capital-gains</th>\n",
       "      <th>capital-loss</th>\n",
       "      <th>incident_hour_of_the_day</th>\n",
       "      <th>number_of_vehicles_involved</th>\n",
       "      <th>property_damage</th>\n",
       "      <th>...</th>\n",
       "      <th>insured_relationship</th>\n",
       "      <th>incident_type</th>\n",
       "      <th>collision_type</th>\n",
       "      <th>incident_severity</th>\n",
       "      <th>authorities_contacted</th>\n",
       "      <th>incident_state</th>\n",
       "      <th>incident_city</th>\n",
       "      <th>incident_location</th>\n",
       "      <th>auto_make</th>\n",
       "      <th>auto_model</th>\n",
       "    </tr>\n",
       "  </thead>\n",
       "  <tbody>\n",
       "    <tr>\n",
       "      <th>0</th>\n",
       "      <td>328</td>\n",
       "      <td>48</td>\n",
       "      <td>1000</td>\n",
       "      <td>1406.91</td>\n",
       "      <td>0.000000</td>\n",
       "      <td>53300</td>\n",
       "      <td>0</td>\n",
       "      <td>5</td>\n",
       "      <td>1.00000</td>\n",
       "      <td>1.0</td>\n",
       "      <td>...</td>\n",
       "      <td>0.0</td>\n",
       "      <td>2.0</td>\n",
       "      <td>3.0</td>\n",
       "      <td>0.0</td>\n",
       "      <td>4.0</td>\n",
       "      <td>4.0</td>\n",
       "      <td>1.0</td>\n",
       "      <td>977.0</td>\n",
       "      <td>10.0</td>\n",
       "      <td>1.0</td>\n",
       "    </tr>\n",
       "    <tr>\n",
       "      <th>1</th>\n",
       "      <td>228</td>\n",
       "      <td>42</td>\n",
       "      <td>2000</td>\n",
       "      <td>1197.22</td>\n",
       "      <td>170.997595</td>\n",
       "      <td>0</td>\n",
       "      <td>0</td>\n",
       "      <td>8</td>\n",
       "      <td>1.00000</td>\n",
       "      <td>0.0</td>\n",
       "      <td>...</td>\n",
       "      <td>2.0</td>\n",
       "      <td>3.0</td>\n",
       "      <td>0.0</td>\n",
       "      <td>1.0</td>\n",
       "      <td>4.0</td>\n",
       "      <td>5.0</td>\n",
       "      <td>5.0</td>\n",
       "      <td>616.0</td>\n",
       "      <td>8.0</td>\n",
       "      <td>12.0</td>\n",
       "    </tr>\n",
       "    <tr>\n",
       "      <th>2</th>\n",
       "      <td>134</td>\n",
       "      <td>29</td>\n",
       "      <td>2000</td>\n",
       "      <td>1413.14</td>\n",
       "      <td>170.997595</td>\n",
       "      <td>35100</td>\n",
       "      <td>0</td>\n",
       "      <td>7</td>\n",
       "      <td>1.44225</td>\n",
       "      <td>0.0</td>\n",
       "      <td>...</td>\n",
       "      <td>3.0</td>\n",
       "      <td>0.0</td>\n",
       "      <td>2.0</td>\n",
       "      <td>1.0</td>\n",
       "      <td>4.0</td>\n",
       "      <td>1.0</td>\n",
       "      <td>1.0</td>\n",
       "      <td>671.0</td>\n",
       "      <td>4.0</td>\n",
       "      <td>30.0</td>\n",
       "    </tr>\n",
       "    <tr>\n",
       "      <th>3</th>\n",
       "      <td>256</td>\n",
       "      <td>41</td>\n",
       "      <td>2000</td>\n",
       "      <td>1415.74</td>\n",
       "      <td>181.712059</td>\n",
       "      <td>48900</td>\n",
       "      <td>-62400</td>\n",
       "      <td>5</td>\n",
       "      <td>1.00000</td>\n",
       "      <td>0.0</td>\n",
       "      <td>...</td>\n",
       "      <td>4.0</td>\n",
       "      <td>2.0</td>\n",
       "      <td>1.0</td>\n",
       "      <td>0.0</td>\n",
       "      <td>4.0</td>\n",
       "      <td>2.0</td>\n",
       "      <td>0.0</td>\n",
       "      <td>656.0</td>\n",
       "      <td>3.0</td>\n",
       "      <td>34.0</td>\n",
       "    </tr>\n",
       "    <tr>\n",
       "      <th>4</th>\n",
       "      <td>228</td>\n",
       "      <td>44</td>\n",
       "      <td>1000</td>\n",
       "      <td>1583.91</td>\n",
       "      <td>181.712059</td>\n",
       "      <td>66000</td>\n",
       "      <td>-46000</td>\n",
       "      <td>20</td>\n",
       "      <td>1.00000</td>\n",
       "      <td>0.0</td>\n",
       "      <td>...</td>\n",
       "      <td>4.0</td>\n",
       "      <td>3.0</td>\n",
       "      <td>0.0</td>\n",
       "      <td>1.0</td>\n",
       "      <td>2.0</td>\n",
       "      <td>1.0</td>\n",
       "      <td>0.0</td>\n",
       "      <td>214.0</td>\n",
       "      <td>0.0</td>\n",
       "      <td>31.0</td>\n",
       "    </tr>\n",
       "  </tbody>\n",
       "</table>\n",
       "<p>5 rows × 32 columns</p>\n",
       "</div>"
      ],
      "text/plain": [
       "   months_as_customer  age  policy_deductable  policy_annual_premium  \\\n",
       "0                 328   48               1000                1406.91   \n",
       "1                 228   42               2000                1197.22   \n",
       "2                 134   29               2000                1413.14   \n",
       "3                 256   41               2000                1415.74   \n",
       "4                 228   44               1000                1583.91   \n",
       "\n",
       "   umbrella_limit  capital-gains  capital-loss  incident_hour_of_the_day  \\\n",
       "0        0.000000          53300             0                         5   \n",
       "1      170.997595              0             0                         8   \n",
       "2      170.997595          35100             0                         7   \n",
       "3      181.712059          48900        -62400                         5   \n",
       "4      181.712059          66000        -46000                        20   \n",
       "\n",
       "   number_of_vehicles_involved  property_damage  ...  insured_relationship  \\\n",
       "0                      1.00000              1.0  ...                   0.0   \n",
       "1                      1.00000              0.0  ...                   2.0   \n",
       "2                      1.44225              0.0  ...                   3.0   \n",
       "3                      1.00000              0.0  ...                   4.0   \n",
       "4                      1.00000              0.0  ...                   4.0   \n",
       "\n",
       "   incident_type  collision_type  incident_severity  authorities_contacted  \\\n",
       "0            2.0             3.0                0.0                    4.0   \n",
       "1            3.0             0.0                1.0                    4.0   \n",
       "2            0.0             2.0                1.0                    4.0   \n",
       "3            2.0             1.0                0.0                    4.0   \n",
       "4            3.0             0.0                1.0                    2.0   \n",
       "\n",
       "   incident_state  incident_city  incident_location  auto_make  auto_model  \n",
       "0             4.0            1.0              977.0       10.0         1.0  \n",
       "1             5.0            5.0              616.0        8.0        12.0  \n",
       "2             1.0            1.0              671.0        4.0        30.0  \n",
       "3             2.0            0.0              656.0        3.0        34.0  \n",
       "4             1.0            0.0              214.0        0.0        31.0  \n",
       "\n",
       "[5 rows x 32 columns]"
      ]
     },
     "execution_count": 71,
     "metadata": {},
     "output_type": "execute_result"
    }
   ],
   "source": [
    "#lets have a look at data after encoding\n",
    "X.head()"
   ]
  },
  {
   "cell_type": "code",
   "execution_count": 72,
   "id": "681d1674",
   "metadata": {},
   "outputs": [
    {
     "data": {
      "text/plain": [
       "0    741\n",
       "1    240\n",
       "Name: fraud_reported, dtype: int64"
      ]
     },
     "execution_count": 72,
     "metadata": {},
     "output_type": "execute_result"
    }
   ],
   "source": [
    "#check value count for target variable\n",
    "y.value_counts()"
   ]
  },
  {
   "cell_type": "markdown",
   "id": "ad15379c",
   "metadata": {},
   "source": [
    "We can see that this is a case of imbalance, so will do oversampling"
   ]
  },
  {
   "cell_type": "markdown",
   "id": "7328d8e5",
   "metadata": {},
   "source": [
    "## Over sampling"
   ]
  },
  {
   "cell_type": "code",
   "execution_count": 73,
   "id": "f57496b5",
   "metadata": {},
   "outputs": [],
   "source": [
    "#lets do oversampling using SMOTE\n",
    "import imblearn\n",
    "from imblearn.over_sampling import SMOTE\n",
    "SM = SMOTE()\n",
    "x_over,y_over = SM.fit_resample(X,y)"
   ]
  },
  {
   "cell_type": "code",
   "execution_count": 74,
   "id": "0f1ab7b3",
   "metadata": {},
   "outputs": [
    {
     "data": {
      "text/plain": [
       "0    741\n",
       "1    741\n",
       "Name: fraud_reported, dtype: int64"
      ]
     },
     "execution_count": 74,
     "metadata": {},
     "output_type": "execute_result"
    }
   ],
   "source": [
    "#lets check the target variable now\n",
    "y_over.value_counts()"
   ]
  },
  {
   "cell_type": "code",
   "execution_count": null,
   "id": "1d54319b",
   "metadata": {},
   "outputs": [],
   "source": []
  },
  {
   "cell_type": "markdown",
   "id": "d0ee9995",
   "metadata": {},
   "source": [
    "## Finding Best random state"
   ]
  },
  {
   "cell_type": "code",
   "execution_count": 75,
   "id": "7876c7a5",
   "metadata": {},
   "outputs": [],
   "source": [
    "# Importing libraries\n",
    "from sklearn.model_selection import train_test_split, GridSearchCV\n",
    "\n",
    "#import required accuracy metrics\n",
    "from sklearn.metrics import accuracy_score, confusion_matrix, classification_report\n",
    "from sklearn.metrics import roc_curve, roc_auc_score\n",
    "from sklearn.model_selection import KFold, cross_val_score\n"
   ]
  },
  {
   "cell_type": "code",
   "execution_count": 76,
   "id": "81ce6f99",
   "metadata": {},
   "outputs": [
    {
     "name": "stdout",
     "output_type": "stream",
     "text": [
      "Best accuracy is 0.5956873315363881 on Random State 97\n"
     ]
    }
   ],
   "source": [
    "#Lets find the best random state using LogisticRegression\n",
    "from sklearn.linear_model import LogisticRegression\n",
    "max_accu = 0\n",
    "max_rs = 0\n",
    "for i in range(1,200):\n",
    "    x_train,x_test,y_train,y_test = train_test_split(x_over,y_over,test_size = 0.25, random_state = i)\n",
    "    LR = LogisticRegression()\n",
    "    LR.fit(x_train,y_train)\n",
    "    pred = LR.predict(x_test)\n",
    "    acc = accuracy_score(y_test,pred)\n",
    "    if acc > max_accu:\n",
    "        max_accu = acc\n",
    "        max_rs = i\n",
    "print(\"Best accuracy is\",max_accu,\"on Random State\",max_rs)"
   ]
  },
  {
   "cell_type": "code",
   "execution_count": 77,
   "id": "36239eda",
   "metadata": {},
   "outputs": [],
   "source": [
    "#lets split our data into train and test parts with best random_state\n",
    "x_train,x_test,y_train,y_test = train_test_split(x_over, y_over, test_size = 0.25, random_state = 144 )"
   ]
  },
  {
   "cell_type": "markdown",
   "id": "87d04e51",
   "metadata": {},
   "source": [
    "## Model Building with Evaluation Metrics"
   ]
  },
  {
   "cell_type": "markdown",
   "id": "27fd0d84",
   "metadata": {},
   "source": [
    "### LogisticRegression model"
   ]
  },
  {
   "cell_type": "code",
   "execution_count": 78,
   "id": "817bda3e",
   "metadata": {},
   "outputs": [
    {
     "name": "stdout",
     "output_type": "stream",
     "text": [
      "Accuracy Score: 53.09973045822103\n",
      "roc_auc_score: 53.57456140350877\n",
      "---------------------------------------------------\n",
      "Confusion Matrix : \n",
      " [[ 95 105]\n",
      " [ 69 102]]\n",
      "\n",
      "CLASSIFICATION REPORT : \n",
      "               precision    recall  f1-score   support\n",
      "\n",
      "           0       0.58      0.47      0.52       200\n",
      "           1       0.49      0.60      0.54       171\n",
      "\n",
      "    accuracy                           0.53       371\n",
      "   macro avg       0.54      0.54      0.53       371\n",
      "weighted avg       0.54      0.53      0.53       371\n",
      "\n",
      "\n",
      "Cross validation score : 54.18011971703247\n",
      "\n",
      "Accuracy Score - Cross Validation Score : -1.0803892588114365\n"
     ]
    }
   ],
   "source": [
    "#Lets check the model with LogisticRegression\n",
    "LR.fit(x_train,y_train)\n",
    "predlr = LR.predict(x_test)\n",
    "accuracy = accuracy_score(y_test,predlr)*100\n",
    "\n",
    "print(f\"Accuracy Score:\", accuracy)\n",
    "print(f\"roc_auc_score: {roc_auc_score(y_test,predlr)*100}\")\n",
    "print(\"---------------------------------------------------\")\n",
    "\n",
    "#confusion matrix & classification report\n",
    "print(f\"Confusion Matrix : \\n {confusion_matrix(y_test,predlr)}\\n\")\n",
    "print(f\"CLASSIFICATION REPORT : \\n {classification_report(y_test,predlr)}\")\n",
    "\n",
    "#cross validation score\n",
    "scores = cross_val_score(LR, x_over, y_over, cv = 10,scoring = \"accuracy\" ).mean()*100\n",
    "print(\"\\nCross validation score :\", scores)\n",
    "\n",
    "#result of accuracy minus cv score\n",
    "result = accuracy - scores\n",
    "print(\"\\nAccuracy Score - Cross Validation Score :\", result)"
   ]
  },
  {
   "cell_type": "code",
   "execution_count": 79,
   "id": "1529d89c",
   "metadata": {},
   "outputs": [
    {
     "name": "stdout",
     "output_type": "stream",
     "text": [
      "Accuracy Score: 53.09973045822103\n",
      "roc_auc_score: 53.57456140350877\n",
      "---------------------------------------------------\n",
      "Confusion Matrix : \n",
      " [[ 95 105]\n",
      " [ 69 102]]\n",
      "\n",
      "CLASSIFICATION REPORT : \n",
      "               precision    recall  f1-score   support\n",
      "\n",
      "           0       0.58      0.47      0.52       200\n",
      "           1       0.49      0.60      0.54       171\n",
      "\n",
      "    accuracy                           0.53       371\n",
      "   macro avg       0.54      0.54      0.53       371\n",
      "weighted avg       0.54      0.53      0.53       371\n",
      "\n",
      "\n",
      "Cross validation score : 54.18011971703247\n",
      "\n",
      "Accuracy Score - Cross Validation Score : -1.0803892588114365\n"
     ]
    }
   ],
   "source": [
    "### LogisticRegression model\n",
    "\n",
    "#Lets check the model with LogisticRegression\n",
    "LR.fit(x_train,y_train)\n",
    "predlr = LR.predict(x_test)\n",
    "accuracy = accuracy_score(y_test,predlr)*100\n",
    "\n",
    "print(f\"Accuracy Score:\", accuracy)\n",
    "print(f\"roc_auc_score: {roc_auc_score(y_test,predlr)*100}\")\n",
    "print(\"---------------------------------------------------\")\n",
    "\n",
    "#confusion matrix & classification report\n",
    "print(f\"Confusion Matrix : \\n {confusion_matrix(y_test,predlr)}\\n\")\n",
    "print(f\"CLASSIFICATION REPORT : \\n {classification_report(y_test,predlr)}\")\n",
    "\n",
    "#cross validation score\n",
    "scores = cross_val_score(LR, x_over, y_over, cv = 10,scoring = \"accuracy\" ).mean()*100\n",
    "print(\"\\nCross validation score :\", scores)\n",
    "\n",
    "#result of accuracy minus cv score\n",
    "result = accuracy - scores\n",
    "print(\"\\nAccuracy Score - Cross Validation Score :\", result)"
   ]
  },
  {
   "cell_type": "markdown",
   "id": "a7a6f14a",
   "metadata": {},
   "source": [
    "### DecesionTreeClassifier model"
   ]
  },
  {
   "cell_type": "code",
   "execution_count": 80,
   "id": "58983ce6",
   "metadata": {},
   "outputs": [
    {
     "name": "stdout",
     "output_type": "stream",
     "text": [
      "Accuracy Score: 83.01886792452831\n",
      "roc_auc_score: 83.02046783625731\n",
      "---------------------------------------------------\n",
      "Confusion Matrix : \n",
      " [[166  34]\n",
      " [ 29 142]]\n",
      "\n",
      "CLASSIFICATION REPORT : \n",
      "               precision    recall  f1-score   support\n",
      "\n",
      "           0       0.85      0.83      0.84       200\n",
      "           1       0.81      0.83      0.82       171\n",
      "\n",
      "    accuracy                           0.83       371\n",
      "   macro avg       0.83      0.83      0.83       371\n",
      "weighted avg       0.83      0.83      0.83       371\n",
      "\n",
      "\n",
      "Cross validation score : 83.8205151460185\n",
      "\n",
      "\n",
      "Accuracy Score - Cross Validation Score : -0.8016472214901853\n"
     ]
    }
   ],
   "source": [
    "#model with DecesionTreeClassifier\n",
    "from sklearn.tree import DecisionTreeClassifier\n",
    "dt = DecisionTreeClassifier()\n",
    "dt.fit(x_train,y_train)\n",
    "pred_dt = dt.predict(x_test)\n",
    "accuracy = accuracy_score(y_test,pred_dt)*100\n",
    "\n",
    "print(f\"Accuracy Score:\", accuracy)\n",
    "print(f\"roc_auc_score: {roc_auc_score(y_test,pred_dt)*100}\")\n",
    "print(\"---------------------------------------------------\")\n",
    "\n",
    "#confusion matrix & classification report\n",
    "print(f\"Confusion Matrix : \\n {confusion_matrix(y_test,pred_dt)}\\n\")\n",
    "print(f\"CLASSIFICATION REPORT : \\n {classification_report(y_test,pred_dt)}\")\n",
    "\n",
    "#cross validation score\n",
    "scores = cross_val_score(dt, x_over, y_over, cv = 10,scoring = \"accuracy\" ).mean()*100\n",
    "print(\"\\nCross validation score :\", scores)\n",
    "\n",
    "#result of accuracy minus cv score\n",
    "result = accuracy - scores\n",
    "print(\"\\n\\nAccuracy Score - Cross Validation Score :\", result)"
   ]
  },
  {
   "cell_type": "markdown",
   "id": "2ddf8b13",
   "metadata": {},
   "source": [
    "### RandomForestClassifier model"
   ]
  },
  {
   "cell_type": "code",
   "execution_count": 81,
   "id": "0fcbf655",
   "metadata": {},
   "outputs": [
    {
     "name": "stdout",
     "output_type": "stream",
     "text": [
      "Accuracy Score: 89.4878706199461\n",
      "\n",
      "roc_auc_score: 89.14766081871346\n",
      "---------------------------------------------------\n",
      "Confusion Matrix : \n",
      " [[187  13]\n",
      " [ 26 145]]\n",
      "\n",
      "CLASSIFICATION REPORT : \n",
      "               precision    recall  f1-score   support\n",
      "\n",
      "           0       0.88      0.94      0.91       200\n",
      "           1       0.92      0.85      0.88       171\n",
      "\n",
      "    accuracy                           0.89       371\n",
      "   macro avg       0.90      0.89      0.89       371\n",
      "weighted avg       0.90      0.89      0.89       371\n",
      "\n",
      "\n",
      "Cross validation score : 86.38853618719389\n",
      "\n",
      "\n",
      "Accuracy Score - Cross Validation Score : 3.099334432752201\n"
     ]
    }
   ],
   "source": [
    "#model with RandomForestClassifier\n",
    "from sklearn.ensemble import RandomForestClassifier\n",
    "rf = RandomForestClassifier()\n",
    "rf.fit(x_train,y_train)\n",
    "pred_rf = rf.predict(x_test)\n",
    "accuracy = accuracy_score(y_test,pred_rf)*100\n",
    "\n",
    "print(f\"Accuracy Score:\", accuracy)\n",
    "print(f\"\\nroc_auc_score: {roc_auc_score(y_test,pred_rf)*100}\")\n",
    "print(\"---------------------------------------------------\")\n",
    "\n",
    "#confusion matrix & classification report\n",
    "print(f\"Confusion Matrix : \\n {confusion_matrix(y_test,pred_rf)}\\n\")\n",
    "print(f\"CLASSIFICATION REPORT : \\n {classification_report(y_test,pred_rf)}\")\n",
    "\n",
    "#cross validation score\n",
    "scores = cross_val_score(rf, x_over, y_over, cv = 10,scoring = \"accuracy\" ).mean()*100\n",
    "print(\"\\nCross validation score :\", scores)\n",
    "\n",
    "#result of accuracy minus cv score\n",
    "result = accuracy - scores\n",
    "print(\"\\n\\nAccuracy Score - Cross Validation Score :\", result)"
   ]
  },
  {
   "cell_type": "markdown",
   "id": "dec64e2b",
   "metadata": {},
   "source": [
    "### KNeighborsClassifier model"
   ]
  },
  {
   "cell_type": "code",
   "execution_count": 82,
   "id": "6d495f68",
   "metadata": {},
   "outputs": [
    {
     "name": "stdout",
     "output_type": "stream",
     "text": [
      "Accuracy Score: 69.2722371967655\n",
      "roc_auc_score: 69.93128654970761\n",
      "---------------------------------------------------\n",
      "Confusion Matrix : \n",
      " [[123  77]\n",
      " [ 37 134]]\n",
      "\n",
      "CLASSIFICATION REPORT : \n",
      "               precision    recall  f1-score   support\n",
      "\n",
      "           0       0.77      0.61      0.68       200\n",
      "           1       0.64      0.78      0.70       171\n",
      "\n",
      "    accuracy                           0.69       371\n",
      "   macro avg       0.70      0.70      0.69       371\n",
      "weighted avg       0.71      0.69      0.69       371\n",
      "\n",
      "\n",
      "Cross validation score : 70.44395066207147\n",
      "\n",
      "\n",
      "Accuracy Score - Cross Validation Score : -1.1717134653059702\n"
     ]
    }
   ],
   "source": [
    "#model with KNeighborsClassifier\n",
    "from sklearn.neighbors import KNeighborsClassifier\n",
    "kn = KNeighborsClassifier()\n",
    "kn.fit(x_train,y_train)\n",
    "pred_kn = kn.predict(x_test)\n",
    "accuracy = accuracy_score(y_test,pred_kn)*100\n",
    "\n",
    "print(f\"Accuracy Score:\", accuracy)\n",
    "print(f\"roc_auc_score: {roc_auc_score(y_test,pred_kn)*100}\")\n",
    "print(\"---------------------------------------------------\")\n",
    "\n",
    "#confusion matrix & classification report\n",
    "print(f\"Confusion Matrix : \\n {confusion_matrix(y_test,pred_kn)}\\n\")\n",
    "print(f\"CLASSIFICATION REPORT : \\n {classification_report(y_test,pred_kn)}\")\n",
    "\n",
    "#cross validation score\n",
    "scores = cross_val_score(kn, x_over, y_over, cv = 10,scoring = \"accuracy\" ).mean()*100\n",
    "print(\"\\nCross validation score :\", scores)\n",
    "\n",
    "#result of accuracy minus cv score\n",
    "result = accuracy - scores\n",
    "print(\"\\n\\nAccuracy Score - Cross Validation Score :\", result)"
   ]
  },
  {
   "cell_type": "markdown",
   "id": "9c3555f6",
   "metadata": {},
   "source": [
    "### XGBClassifier model"
   ]
  },
  {
   "cell_type": "code",
   "execution_count": 83,
   "id": "046c2416",
   "metadata": {},
   "outputs": [
    {
     "name": "stdout",
     "output_type": "stream",
     "text": [
      "Accuracy Score: 88.67924528301887\n",
      "roc_auc_score: 88.31286549707602\n",
      "---------------------------------------------------\n",
      "Confusion Matrix : \n",
      " [[186  14]\n",
      " [ 28 143]]\n",
      "\n",
      "CLASSIFICATION REPORT : \n",
      "               precision    recall  f1-score   support\n",
      "\n",
      "           0       0.87      0.93      0.90       200\n",
      "           1       0.91      0.84      0.87       171\n",
      "\n",
      "    accuracy                           0.89       371\n",
      "   macro avg       0.89      0.88      0.89       371\n",
      "weighted avg       0.89      0.89      0.89       371\n",
      "\n",
      "\n",
      "Cross validation score : 87.80155994921095\n",
      "\n",
      "Accuracy Score - Cross Validation Score : 0.8776853338079178\n"
     ]
    }
   ],
   "source": [
    "#lets check with XGBClassifier model\n",
    "from xgboost import XGBClassifier\n",
    "xgb = XGBClassifier(verbosity = 0)\n",
    "xgb.fit(x_train,y_train)\n",
    "pred_xgb = xgb.predict(x_test)\n",
    "accuracy = accuracy_score(y_test,pred_xgb)*100\n",
    "\n",
    "print(f\"Accuracy Score:\", accuracy)\n",
    "print(f\"roc_auc_score: {roc_auc_score(y_test,pred_xgb)*100}\")\n",
    "print(\"---------------------------------------------------\")\n",
    "\n",
    "#confusion matrix & classification report\n",
    "print(f\"Confusion Matrix : \\n {confusion_matrix(y_test,pred_xgb)}\\n\")\n",
    "print(f\"CLASSIFICATION REPORT : \\n {classification_report(y_test,pred_xgb)}\")\n",
    "\n",
    "#cross validation score\n",
    "scores = cross_val_score(xgb, x_over, y_over, cv = 10,scoring = \"accuracy\" ).mean()*100\n",
    "print(\"\\nCross validation score :\", scores)\n",
    "\n",
    "#result of accuracy minus cv score\n",
    "result = accuracy - scores\n",
    "print(\"\\nAccuracy Score - Cross Validation Score :\", result)"
   ]
  },
  {
   "cell_type": "markdown",
   "id": "7f458399",
   "metadata": {},
   "source": [
    "## ExtraTreesClassifier model"
   ]
  },
  {
   "cell_type": "code",
   "execution_count": 84,
   "id": "4d6978df",
   "metadata": {},
   "outputs": [
    {
     "name": "stdout",
     "output_type": "stream",
     "text": [
      "Accuracy Score: 88.67924528301887\n",
      "roc_auc_score: 88.31286549707602\n",
      "---------------------------------------------------\n",
      "Confusion Matrix : \n",
      " [[186  14]\n",
      " [ 28 143]]\n",
      "\n",
      "CLASSIFICATION REPORT : \n",
      "               precision    recall  f1-score   support\n",
      "\n",
      "           0       0.87      0.93      0.90       200\n",
      "           1       0.91      0.84      0.87       171\n",
      "\n",
      "    accuracy                           0.89       371\n",
      "   macro avg       0.89      0.88      0.89       371\n",
      "weighted avg       0.89      0.89      0.89       371\n",
      "\n",
      "\n",
      "Cross validation score : 90.09341556321422\n",
      "\n",
      "Accuracy Score - Cross Validation Score : -1.41417028019535\n"
     ]
    }
   ],
   "source": [
    "#lets check with Extra Trees Classifier\n",
    "from sklearn.ensemble import ExtraTreesClassifier\n",
    "ext = ExtraTreesClassifier()\n",
    "ext.fit(x_train,y_train)\n",
    "pred_ext = xgb.predict(x_test)\n",
    "accuracy = accuracy_score(y_test,pred_ext)*100\n",
    "\n",
    "print(f\"Accuracy Score:\", accuracy)\n",
    "print(f\"roc_auc_score: {roc_auc_score(y_test,pred_ext)*100}\")\n",
    "print(\"---------------------------------------------------\")\n",
    "\n",
    "#confusion matrix & classification report\n",
    "print(f\"Confusion Matrix : \\n {confusion_matrix(y_test,pred_ext)}\\n\")\n",
    "print(f\"CLASSIFICATION REPORT : \\n {classification_report(y_test,pred_ext)}\")\n",
    "\n",
    "#cross validation score\n",
    "scores = cross_val_score(ext, x_over, y_over, cv = 10,scoring = \"accuracy\" ).mean()*100\n",
    "print(\"\\nCross validation score :\", scores)\n",
    "\n",
    "#result of accuracy minus cv score\n",
    "result = accuracy - scores\n",
    "print(\"\\nAccuracy Score - Cross Validation Score :\", result)"
   ]
  },
  {
   "cell_type": "markdown",
   "id": "d9c63768",
   "metadata": {},
   "source": [
    "## AUC ROC Curve"
   ]
  },
  {
   "cell_type": "code",
   "execution_count": 85,
   "id": "ee1236fe",
   "metadata": {},
   "outputs": [
    {
     "data": {
      "image/png": "[encoded data removed]",
      "text/plain": [
       "<Figure size 432x288 with 1 Axes>"
      ]
     },
     "metadata": {
      "needs_background": "light"
     },
     "output_type": "display_data"
    }
   ],
   "source": [
    "#Lets plot roc curve and check auc and performance of all algorithms\n",
    "from sklearn.metrics import plot_roc_curve\n",
    "disp = plot_roc_curve(LR, x_test, y_test)\n",
    "plot_roc_curve(dt, x_test, y_test, ax = disp.ax_)\n",
    "plot_roc_curve(rf, x_test, y_test, ax = disp.ax_)\n",
    "plot_roc_curve(kn, x_test, y_test, ax = disp.ax_)\n",
    "plot_roc_curve(xgb, x_test, y_test, ax = disp.ax_)\n",
    "plot_roc_curve(ext, x_test, y_test, ax = disp.ax_)\n",
    "\n",
    "plt.legend(prop={\"size\" :10} ,loc = 'lower right')\n",
    "plt.show()"
   ]
  },
  {
   "cell_type": "markdown",
   "id": "c2f2280b",
   "metadata": {},
   "source": [
    "* We can see ExtraTreesClassifier is giving least difference in accuracy and cv score which is of 0.065.\n",
    "* And looking at AUC and roc curve RandomForestClassifier, XGBClassifier, and ExtraTreesClassifier are giving nearly same performances, among which ExtraTreesClassifier is giving heighst AUC\n",
    "* After these observations and evaluations I can conclude that the best suitable model is ExtraTreesClassifier."
   ]
  },
  {
   "cell_type": "markdown",
   "id": "a3da3feb",
   "metadata": {},
   "source": [
    "## Hyper parameter tunning"
   ]
  },
  {
   "cell_type": "code",
   "execution_count": 86,
   "id": "5982a5bb",
   "metadata": {},
   "outputs": [],
   "source": [
    "#lets selects different parameters for tuning\n",
    "grid_params = {\n",
    "               'criterion':['gini','entropy'],\n",
    "                'max_depth': [10,12,15,20,22],\n",
    "                'n_estimators':[500,700,1000,1200],\n",
    "                'max_features':['aoto','sqrt','log2'],\n",
    "                'min_samples_split': [2]\n",
    "                }"
   ]
  },
  {
   "cell_type": "code",
   "execution_count": 87,
   "id": "11876be3",
   "metadata": {
    "scrolled": true
   },
   "outputs": [
    {
     "data": {
      "text/plain": [
       "GridSearchCV(cv=5, estimator=ExtraTreesClassifier(),\n",
       "             param_grid={'criterion': ['gini', 'entropy'],\n",
       "                         'max_depth': [10, 12, 15, 20, 22],\n",
       "                         'max_features': ['aoto', 'sqrt', 'log2'],\n",
       "                         'min_samples_split': [2],\n",
       "                         'n_estimators': [500, 700, 1000, 1200]})"
      ]
     },
     "execution_count": 87,
     "metadata": {},
     "output_type": "execute_result"
    }
   ],
   "source": [
    "#train the model with given parameters using GridSearchCV\n",
    "GCV =  GridSearchCV(ExtraTreesClassifier(), grid_params, cv = 5)\n",
    "GCV.fit(x_train,y_train)"
   ]
  },
  {
   "cell_type": "code",
   "execution_count": 88,
   "id": "0e594c29",
   "metadata": {},
   "outputs": [
    {
     "data": {
      "text/plain": [
       "{'criterion': 'gini',\n",
       " 'max_depth': 22,\n",
       " 'max_features': 'sqrt',\n",
       " 'min_samples_split': 2,\n",
       " 'n_estimators': 700}"
      ]
     },
     "execution_count": 88,
     "metadata": {},
     "output_type": "execute_result"
    }
   ],
   "source": [
    "GCV.best_params_       #printing the best parameters found by GridSearchCV"
   ]
  },
  {
   "cell_type": "markdown",
   "id": "96b56180",
   "metadata": {},
   "source": [
    "## Final model"
   ]
  },
  {
   "cell_type": "code",
   "execution_count": 89,
   "id": "4ce9bfa6",
   "metadata": {},
   "outputs": [
    {
     "name": "stdout",
     "output_type": "stream",
     "text": [
      "Accuracy Score: 92.18328840970351%\n",
      "--------------------------------------------------------\n",
      "roc_auc_score: 92.02923976608186%\n",
      "--------------------------------------------------------\n",
      "Confusion Matrix : \n",
      " [[188  12]\n",
      " [ 17 154]]\n",
      "\n",
      "------------------------------------------------------------------------\n",
      "CLASSIFICATION REPORT : \n",
      "               precision    recall  f1-score   support\n",
      "\n",
      "           0       0.92      0.94      0.93       200\n",
      "           1       0.93      0.90      0.91       171\n",
      "\n",
      "    accuracy                           0.92       371\n",
      "   macro avg       0.92      0.92      0.92       371\n",
      "weighted avg       0.92      0.92      0.92       371\n",
      "\n"
     ]
    }
   ],
   "source": [
    "#lets check the results of final model with best parameters\n",
    "model = ExtraTreesClassifier(criterion = 'gini', max_depth = 15, max_features = 'sqrt', min_samples_split = 2, n_estimators = 1000)\n",
    "model.fit(x_train,y_train)\n",
    "pred = model.predict(x_test)\n",
    "\n",
    "print(f\"Accuracy Score: {accuracy_score(y_test,pred)*100}%\")\n",
    "print(\"--------------------------------------------------------\")\n",
    "\n",
    "print(f\"roc_auc_score: {roc_auc_score(y_test,pred)*100}%\")\n",
    "print(\"--------------------------------------------------------\")\n",
    "\n",
    "print(f\"Confusion Matrix : \\n {confusion_matrix(y_test,pred)}\\n\")\n",
    "print(\"------------------------------------------------------------------------\")\n",
    "print(f\"CLASSIFICATION REPORT : \\n {classification_report(y_test,pred)}\")"
   ]
  },
  {
   "cell_type": "markdown",
   "id": "0ef61a79",
   "metadata": {},
   "source": [
    "After hyper parameter tuning the accuracy is increased from 88.67% to 92.18%"
   ]
  },
  {
   "cell_type": "markdown",
   "id": "acfe8aa1",
   "metadata": {},
   "source": [
    "## AUC ROC Curve for final model"
   ]
  },
  {
   "cell_type": "code",
   "execution_count": 92,
   "id": "01ac24ba",
   "metadata": {},
   "outputs": [
    {
     "data": {
      "image/png": "[encoded data removed]",
      "text/plain": [
       "<Figure size 432x288 with 1 Axes>"
      ]
     },
     "metadata": {
      "needs_background": "light"
     },
     "output_type": "display_data"
    }
   ],
   "source": [
    "plot_roc_curve(model, x_test, y_test)\n",
    "plt.show()"
   ]
  },
  {
   "cell_type": "markdown",
   "id": "91905598",
   "metadata": {},
   "source": [
    "auc roc curve showing the performance for final model."
   ]
  },
  {
   "cell_type": "markdown",
   "id": "ee45a123",
   "metadata": {},
   "source": [
    "## Model saving"
   ]
  },
  {
   "cell_type": "code",
   "execution_count": 93,
   "id": "774a91d8",
   "metadata": {},
   "outputs": [
    {
     "data": {
      "text/plain": [
       "['Insurance_Fraud_Detection.pkl']"
      ]
     },
     "execution_count": 93,
     "metadata": {},
     "output_type": "execute_result"
    }
   ],
   "source": [
    "import joblib\n",
    "joblib.dump(model,\"Insurance_Fraud_Detection.pkl\")"
   ]
  },
  {
   "cell_type": "code",
   "execution_count": null,
   "id": "11f10aeb",
   "metadata": {},
   "outputs": [],
   "source": []
  }
 ],
 "metadata": {
  "kernelspec": {
   "display_name": "Python 3",
   "language": "python",
   "name": "python3"
  },
  "language_info": {
   "codemirror_mode": {
    "name": "ipython",
    "version": 3
   },
   "file_extension": ".py",
   "mimetype": "text/x-python",
   "name": "python",
   "nbconvert_exporter": "python",
   "pygments_lexer": "ipython3",
   "version": "3.8.8"
  }
 },
 "nbformat": 4,
 "nbformat_minor": 5
}
